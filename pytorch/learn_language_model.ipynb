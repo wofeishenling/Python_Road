{
 "cells": [
  {
   "cell_type": "code",
   "execution_count": 1,
   "metadata": {},
   "outputs": [],
   "source": [
    "import requests\n",
    "import time\n",
    "\n",
    "import xml.etree.ElementTree as ET\n",
    "import pandas as pd\n",
    "import numpy as np\n",
    "import math\n",
    "import matplotlib.pyplot as plt\n",
    "import re\n",
    "import glob\n",
    "import random\n",
    "import seaborn as sns\n",
    "import string\n",
    "\n",
    "from IPython.display import clear_output\n",
    "\n",
    "# Hide warnings\n",
    "import warnings\n",
    "warnings.filterwarnings('ignore')\n",
    "\n",
    "# http://www.nltk.org/howto/wordnet.html\n",
    "\n",
    "from nltk.corpus import wordnet as wn\n",
    "from nltk.corpus import stopwords\n",
    "from nltk.wsd import lesk"
   ]
  },
  {
   "cell_type": "code",
   "execution_count": null,
   "metadata": {},
   "outputs": [],
   "source": [
    "# Location of test/train data files on local computer, data downloaded directly from Stanford source[2]\n",
    "#test_dir = '/Users/philiposborne/Documents/Written Notes/Learning Notes/IMDB Reviews/IMDB Data/test'\n",
    "#train_dir = '/Users/philiposborne/Documents/Written Notes/Learning Notes/IMDB Reviews/IMDB Data/train'\n",
    "\n",
    "data = pd.read_csv('../input/imdb_master.csv',encoding=\"latin-1\")"
   ]
  },
  {
   "cell_type": "code",
   "execution_count": null,
   "metadata": {},
   "outputs": [],
   "source": [
    "# Select only training data\n",
    "data = data[data['type']=='train'].reset_index(drop=True)"
   ]
  },
  {
   "cell_type": "code",
   "execution_count": null,
   "metadata": {},
   "outputs": [],
   "source": [
    "print('Number of comments in data:', len(data))\n",
    "\n",
    "data = data[0:1000]\n",
    "\n",
    "print('Number of comments left in data after removal:', len(data))"
   ]
  },
  {
   "cell_type": "code",
   "execution_count": null,
   "metadata": {},
   "outputs": [],
   "source": [
    "train_data = data"
   ]
  },
  {
   "cell_type": "code",
   "execution_count": null,
   "metadata": {},
   "outputs": [],
   "source": [
    "# Data import written as a function:\n",
    "# Replace test and train dir with correct path for file saved on local computer\n",
    "# Data files are downloaded from reference link above where main file name is changed to IMDB Data\n",
    "\n",
    "# This function converts the raw files form the original Stanford source into csv files.\n",
    "\"\"\"\n",
    "def IMDB_to_csv(directory):    \n",
    "    data = pd.DataFrame()\n",
    "    \n",
    "    for filename in glob.glob(str(directory)+'/neg/*.txt'):\n",
    "        with open(filename, 'r',  encoding=\"utf8\") as f:\n",
    "            content = f.readlines()\n",
    "            content_table = pd.DataFrame({'id':filename.split('_')[0].split('/')[-1],'rating':filename.split('_')[1].split('.')[0],'pol':'neg', 'text':content})\n",
    "        data = data.append(content_table)\n",
    "        \n",
    "    for filename in glob.glob(str(directory)+'/pos/*.txt'):\n",
    "        with open(filename, 'r',  encoding=\"utf8\") as f:\n",
    "            content = f.readlines()\n",
    "            content_table = pd.DataFrame({'id':filename.split('_')[0].split('/')[-1],'rating':filename.split('_')[1].split('.')[0],'pol':'pos', 'text':content})\n",
    "        data = data.append(content_table)\n",
    "    data = data.sort_values(['pol','id'])\n",
    "    data = data.reset_index(drop=True)\n",
    "    #data['rating_norm'] = (data['rating'] - data['rating'].min())/( data['rating'].max() - data['rating'].min() )\n",
    "\n",
    "    return(data)\n",
    "\n",
    "train_data = IMDB_to_csv(train_dir)\n",
    "\"\"\""
   ]
  },
  {
   "cell_type": "code",
   "execution_count": null,
   "metadata": {},
   "outputs": [],
   "source": [
    "train_data.columns = ['id', 'dataset', 'text', 'pol','file']\n",
    "train_data.head()"
   ]
  }
 ],
 "metadata": {
  "interpreter": {
   "hash": "8fb0494860df1d52b367ac61efe8b0e8730abdbd6249c6c25e898f0162eca41a"
  },
  "kernelspec": {
   "display_name": "Python 3.8.8 64-bit ('base': conda)",
   "name": "python3"
  },
  "language_info": {
   "codemirror_mode": {
    "name": "ipython",
    "version": 3
   },
   "file_extension": ".py",
   "mimetype": "text/x-python",
   "name": "python",
   "nbconvert_exporter": "python",
   "pygments_lexer": "ipython3",
   "version": "3.8.8"
  },
  "orig_nbformat": 4
 },
 "nbformat": 4,
 "nbformat_minor": 2
}
