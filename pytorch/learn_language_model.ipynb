{
 "cells": [
  {
   "cell_type": "code",
   "execution_count": 82,
   "metadata": {},
   "outputs": [],
   "source": [
    "import requests\n",
    "import time\n",
    "import nltk\n",
    "\n",
    "import xml.etree.ElementTree as ET\n",
    "import pandas as pd\n",
    "import numpy as np\n",
    "import math\n",
    "import matplotlib.pyplot as plt\n",
    "import re\n",
    "import glob\n",
    "import random\n",
    "import seaborn as sns\n",
    "import string\n",
    "\n",
    "from IPython.display import clear_output\n",
    "\n",
    "# Hide warnings\n",
    "import warnings\n",
    "warnings.filterwarnings('ignore')\n",
    "\n",
    "# http://www.nltk.org/howto/wordnet.html\n",
    "\n",
    "from nltk.corpus import wordnet as wn\n",
    "from nltk.corpus import stopwords\n",
    "from nltk.wsd import lesk"
   ]
  },
  {
   "cell_type": "code",
   "execution_count": 61,
   "metadata": {},
   "outputs": [
    {
     "name": "stdout",
     "output_type": "stream",
     "text": [
      "Index(['Unnamed: 0', 'id', 'type', 'rating', 'pol', 'text'], dtype='object')\n"
     ]
    }
   ],
   "source": [
    "# Location of test/train data files on local computer, data downloaded directly from Stanford source[2]\n",
    "#test_dir = '/Users/philiposborne/Documents/Written Notes/Learning Notes/IMDB Reviews/IMDB Data/test'\n",
    "#train_dir = '/Users/philiposborne/Documents/Written Notes/Learning Notes/IMDB Reviews/IMDB Data/train'\n",
    "\n",
    "data = pd.read_csv(\"/Users/wofeishenling/python_note/Python_Road/pytorch/imdb_master.csv\")\n",
    "print(data.columns)\n"
   ]
  },
  {
   "cell_type": "code",
   "execution_count": 62,
   "metadata": {},
   "outputs": [
    {
     "name": "stdout",
     "output_type": "stream",
     "text": [
      "Index(['Unnamed: 0', 'id', 'type', 'rating', 'pol', 'text'], dtype='object')\n"
     ]
    }
   ],
   "source": [
    "# Select only training data\n",
    "data = data[data['type']=='train'].reset_index(drop=True)\n",
    "print(data.columns)"
   ]
  },
  {
   "cell_type": "code",
   "execution_count": 63,
   "metadata": {},
   "outputs": [
    {
     "name": "stdout",
     "output_type": "stream",
     "text": [
      "Number of comments in data: 25000\n",
      "Number of comments left in data after removal: 1000\n"
     ]
    }
   ],
   "source": [
    "print('Number of comments in data:', len(data))\n",
    "\n",
    "data = data[0:1000]\n",
    "\n",
    "print('Number of comments left in data after removal:', len(data))"
   ]
  },
  {
   "cell_type": "code",
   "execution_count": 64,
   "metadata": {},
   "outputs": [],
   "source": [
    "train_data = data"
   ]
  },
  {
   "cell_type": "code",
   "execution_count": 65,
   "metadata": {},
   "outputs": [
    {
     "data": {
      "text/plain": [
       "'\\ndef IMDB_to_csv(directory):    \\n    data = pd.DataFrame()\\n    \\n    for filename in glob.glob(str(directory)+\\'/neg/*.txt\\'):\\n        with open(filename, \\'r\\',  encoding=\"utf8\") as f:\\n            content = f.readlines()\\n            content_table = pd.DataFrame({\\'id\\':filename.split(\\'_\\')[0].split(\\'/\\')[-1],\\'rating\\':filename.split(\\'_\\')[1].split(\\'.\\')[0],\\'pol\\':\\'neg\\', \\'text\\':content})\\n        data = data.append(content_table)\\n        \\n    for filename in glob.glob(str(directory)+\\'/pos/*.txt\\'):\\n        with open(filename, \\'r\\',  encoding=\"utf8\") as f:\\n            content = f.readlines()\\n            content_table = pd.DataFrame({\\'id\\':filename.split(\\'_\\')[0].split(\\'/\\')[-1],\\'rating\\':filename.split(\\'_\\')[1].split(\\'.\\')[0],\\'pol\\':\\'pos\\', \\'text\\':content})\\n        data = data.append(content_table)\\n    data = data.sort_values([\\'pol\\',\\'id\\'])\\n    data = data.reset_index(drop=True)\\n    #data[\\'rating_norm\\'] = (data[\\'rating\\'] - data[\\'rating\\'].min())/( data[\\'rating\\'].max() - data[\\'rating\\'].min() )\\n\\n    return(data)\\n\\ntrain_data = IMDB_to_csv(train_dir)\\n'"
      ]
     },
     "execution_count": 65,
     "metadata": {},
     "output_type": "execute_result"
    }
   ],
   "source": [
    "# Data import written as a function:\n",
    "# Replace test and train dir with correct path for file saved on local computer\n",
    "# Data files are downloaded from reference link above where main file name is changed to IMDB Data\n",
    "\n",
    "# This function converts the raw files form the original Stanford source into csv files.\n",
    "\"\"\"\n",
    "def IMDB_to_csv(directory):    \n",
    "    data = pd.DataFrame()\n",
    "    \n",
    "    for filename in glob.glob(str(directory)+'/neg/*.txt'):\n",
    "        with open(filename, 'r',  encoding=\"utf8\") as f:\n",
    "            content = f.readlines()\n",
    "            content_table = pd.DataFrame({'id':filename.split('_')[0].split('/')[-1],'rating':filename.split('_')[1].split('.')[0],'pol':'neg', 'text':content})\n",
    "        data = data.append(content_table)\n",
    "        \n",
    "    for filename in glob.glob(str(directory)+'/pos/*.txt'):\n",
    "        with open(filename, 'r',  encoding=\"utf8\") as f:\n",
    "            content = f.readlines()\n",
    "            content_table = pd.DataFrame({'id':filename.split('_')[0].split('/')[-1],'rating':filename.split('_')[1].split('.')[0],'pol':'pos', 'text':content})\n",
    "        data = data.append(content_table)\n",
    "    data = data.sort_values(['pol','id'])\n",
    "    data = data.reset_index(drop=True)\n",
    "    #data['rating_norm'] = (data['rating'] - data['rating'].min())/( data['rating'].max() - data['rating'].min() )\n",
    "\n",
    "    return(data)\n",
    "\n",
    "train_data = IMDB_to_csv(train_dir)\n",
    "\"\"\""
   ]
  },
  {
   "cell_type": "code",
   "execution_count": 66,
   "metadata": {},
   "outputs": [
    {
     "name": "stdout",
     "output_type": "stream",
     "text": [
      "Index(['Unnamed: 0', 'id', 'type', 'rating', 'pol', 'text'], dtype='object')\n"
     ]
    },
    {
     "data": {
      "text/html": [
       "<div>\n",
       "<style scoped>\n",
       "    .dataframe tbody tr th:only-of-type {\n",
       "        vertical-align: middle;\n",
       "    }\n",
       "\n",
       "    .dataframe tbody tr th {\n",
       "        vertical-align: top;\n",
       "    }\n",
       "\n",
       "    .dataframe thead th {\n",
       "        text-align: right;\n",
       "    }\n",
       "</style>\n",
       "<table border=\"1\" class=\"dataframe\">\n",
       "  <thead>\n",
       "    <tr style=\"text-align: right;\">\n",
       "      <th></th>\n",
       "      <th>id-</th>\n",
       "      <th>id</th>\n",
       "      <th>dataset</th>\n",
       "      <th>rating</th>\n",
       "      <th>pol</th>\n",
       "      <th>text</th>\n",
       "    </tr>\n",
       "  </thead>\n",
       "  <tbody>\n",
       "    <tr>\n",
       "      <th>0</th>\n",
       "      <td>0</td>\n",
       "      <td>0</td>\n",
       "      <td>train</td>\n",
       "      <td>3</td>\n",
       "      <td>neg</td>\n",
       "      <td>Story of a man who has unnatural feelings for ...</td>\n",
       "    </tr>\n",
       "    <tr>\n",
       "      <th>1</th>\n",
       "      <td>1</td>\n",
       "      <td>1</td>\n",
       "      <td>train</td>\n",
       "      <td>1</td>\n",
       "      <td>neg</td>\n",
       "      <td>Robert DeNiro plays the most unbelievably inte...</td>\n",
       "    </tr>\n",
       "    <tr>\n",
       "      <th>2</th>\n",
       "      <td>2</td>\n",
       "      <td>10</td>\n",
       "      <td>train</td>\n",
       "      <td>2</td>\n",
       "      <td>neg</td>\n",
       "      <td>This film had a lot of promise, and the plot w...</td>\n",
       "    </tr>\n",
       "    <tr>\n",
       "      <th>3</th>\n",
       "      <td>3</td>\n",
       "      <td>100</td>\n",
       "      <td>train</td>\n",
       "      <td>3</td>\n",
       "      <td>neg</td>\n",
       "      <td>OK its not the best film I've ever seen but at...</td>\n",
       "    </tr>\n",
       "    <tr>\n",
       "      <th>4</th>\n",
       "      <td>4</td>\n",
       "      <td>1000</td>\n",
       "      <td>train</td>\n",
       "      <td>4</td>\n",
       "      <td>neg</td>\n",
       "      <td>The plot for Descent, if it actually can be ca...</td>\n",
       "    </tr>\n",
       "  </tbody>\n",
       "</table>\n",
       "</div>"
      ],
      "text/plain": [
       "   id-    id dataset  rating  pol  \\\n",
       "0    0     0   train       3  neg   \n",
       "1    1     1   train       1  neg   \n",
       "2    2    10   train       2  neg   \n",
       "3    3   100   train       3  neg   \n",
       "4    4  1000   train       4  neg   \n",
       "\n",
       "                                                text  \n",
       "0  Story of a man who has unnatural feelings for ...  \n",
       "1  Robert DeNiro plays the most unbelievably inte...  \n",
       "2  This film had a lot of promise, and the plot w...  \n",
       "3  OK its not the best film I've ever seen but at...  \n",
       "4  The plot for Descent, if it actually can be ca...  "
      ]
     },
     "execution_count": 66,
     "metadata": {},
     "output_type": "execute_result"
    }
   ],
   "source": [
    "print(train_data.columns)\n",
    "train_data.columns = ['id-', 'id', 'dataset', 'rating', 'pol', 'text']\n",
    "train_data.head()"
   ]
  },
  {
   "cell_type": "code",
   "execution_count": 67,
   "metadata": {},
   "outputs": [
    {
     "data": {
      "text/plain": [
       "['Story of a man who has unnatural feelings for a pig',\n",
       " ' Starts out with a opening scene that is a terrific example of absurd comedy',\n",
       " \" A formal orchestra audience is turned into an insane, violent mob by the crazy chantings of it's singers\",\n",
       " ' Unfortunately it stays absurd the WHOLE time with no general narrative eventually making it just too off putting',\n",
       " ' Even those from the era should be turned off',\n",
       " ' The cryptic dialogue would make Shakespeare seem easy to a third grader',\n",
       " \" On a technical level it's better than you might think with some good cinematography by future great Vilmos Zsigmond\",\n",
       " ' Future stars Sally Kirkland and Frederic Forrest can be seen briefly',\n",
       " '']"
      ]
     },
     "execution_count": 67,
     "metadata": {},
     "output_type": "execute_result"
    }
   ],
   "source": [
    "train_data['text'][0].split('.')"
   ]
  },
  {
   "cell_type": "code",
   "execution_count": 68,
   "metadata": {},
   "outputs": [
    {
     "data": {
      "text/plain": [
       "'Story of a man who has unnatural feelings for a pig'"
      ]
     },
     "execution_count": 68,
     "metadata": {},
     "output_type": "execute_result"
    }
   ],
   "source": [
    "train_data['text'][0].split('.')[0]"
   ]
  },
  {
   "cell_type": "code",
   "execution_count": 69,
   "metadata": {},
   "outputs": [
    {
     "data": {
      "text/plain": [
       "9"
      ]
     },
     "execution_count": 69,
     "metadata": {},
     "output_type": "execute_result"
    }
   ],
   "source": [
    "len(train_data['text'][0].split('.'))"
   ]
  },
  {
   "cell_type": "code",
   "execution_count": 70,
   "metadata": {},
   "outputs": [
    {
     "data": {
      "text/plain": [
       "''"
      ]
     },
     "execution_count": 70,
     "metadata": {},
     "output_type": "execute_result"
    }
   ],
   "source": [
    "train_data['text'][0].split('.')[8]"
   ]
  },
  {
   "cell_type": "code",
   "execution_count": 71,
   "metadata": {},
   "outputs": [
    {
     "name": "stdout",
     "output_type": "stream",
     "text": [
      "Proportion of comments completed: 99.9 %\n",
      "Total run time =  0.6098333333333333  minutes\n"
     ]
    }
   ],
   "source": [
    "train_data_sent = pd.DataFrame()\n",
    "\n",
    "start_time = time.time()\n",
    "for index in train_data.index:\n",
    "    data_row = train_data.iloc[index,:]\n",
    "\n",
    "    for sent_id in range(0,len(data_row['text'].split('.'))-1):\n",
    "        sentence = data_row['text'].split('.')[sent_id]\n",
    "        # Form a row in a dataframe for this setence that captures the words and keeps ids and polarity scores\n",
    "        # We must pass an arbitrary index which we then reset to show unique numbers\n",
    "        sentence_row = pd.DataFrame({\n",
    "                                     'id':data_row['id'],\n",
    "                                     'pol':data_row['pol'],\n",
    "                                     'sent_id':sent_id,\n",
    "                                     'sentence':sentence}, index = [index]) \n",
    "        \n",
    "        # Form full table that has rows for all sentences\n",
    "        train_data_sent = train_data_sent.append(sentence_row)\n",
    "    \n",
    "    \n",
    "    # Outputs progress of main loop, see:\n",
    "    clear_output(wait=True)\n",
    "    print('Proportion of comments completed:', np.round(index/len(train_data),4)*100,'%')\n",
    "    \n",
    "end_time = time.time()\n",
    "print('Total run time = ', np.round(end_time-start_time,2)/60, ' minutes')\n",
    "# Reset index so that each index value is a unique number\n",
    "train_data_sent = train_data_sent.reset_index(drop=True)"
   ]
  },
  {
   "cell_type": "code",
   "execution_count": 72,
   "metadata": {},
   "outputs": [
    {
     "data": {
      "text/html": [
       "<div>\n",
       "<style scoped>\n",
       "    .dataframe tbody tr th:only-of-type {\n",
       "        vertical-align: middle;\n",
       "    }\n",
       "\n",
       "    .dataframe tbody tr th {\n",
       "        vertical-align: top;\n",
       "    }\n",
       "\n",
       "    .dataframe thead th {\n",
       "        text-align: right;\n",
       "    }\n",
       "</style>\n",
       "<table border=\"1\" class=\"dataframe\">\n",
       "  <thead>\n",
       "    <tr style=\"text-align: right;\">\n",
       "      <th></th>\n",
       "      <th>id</th>\n",
       "      <th>pol</th>\n",
       "      <th>sent_id</th>\n",
       "      <th>sentence</th>\n",
       "    </tr>\n",
       "  </thead>\n",
       "  <tbody>\n",
       "    <tr>\n",
       "      <th>0</th>\n",
       "      <td>0</td>\n",
       "      <td>neg</td>\n",
       "      <td>0</td>\n",
       "      <td>Story of a man who has unnatural feelings for ...</td>\n",
       "    </tr>\n",
       "    <tr>\n",
       "      <th>1</th>\n",
       "      <td>0</td>\n",
       "      <td>neg</td>\n",
       "      <td>1</td>\n",
       "      <td>Starts out with a opening scene that is a ter...</td>\n",
       "    </tr>\n",
       "    <tr>\n",
       "      <th>2</th>\n",
       "      <td>0</td>\n",
       "      <td>neg</td>\n",
       "      <td>2</td>\n",
       "      <td>A formal orchestra audience is turned into an...</td>\n",
       "    </tr>\n",
       "    <tr>\n",
       "      <th>3</th>\n",
       "      <td>0</td>\n",
       "      <td>neg</td>\n",
       "      <td>3</td>\n",
       "      <td>Unfortunately it stays absurd the WHOLE time ...</td>\n",
       "    </tr>\n",
       "    <tr>\n",
       "      <th>4</th>\n",
       "      <td>0</td>\n",
       "      <td>neg</td>\n",
       "      <td>4</td>\n",
       "      <td>Even those from the era should be turned off</td>\n",
       "    </tr>\n",
       "  </tbody>\n",
       "</table>\n",
       "</div>"
      ],
      "text/plain": [
       "   id  pol  sent_id                                           sentence\n",
       "0   0  neg        0  Story of a man who has unnatural feelings for ...\n",
       "1   0  neg        1   Starts out with a opening scene that is a ter...\n",
       "2   0  neg        2   A formal orchestra audience is turned into an...\n",
       "3   0  neg        3   Unfortunately it stays absurd the WHOLE time ...\n",
       "4   0  neg        4       Even those from the era should be turned off"
      ]
     },
     "execution_count": 72,
     "metadata": {},
     "output_type": "execute_result"
    }
   ],
   "source": [
    "train_data_sent.head()"
   ]
  },
  {
   "cell_type": "code",
   "execution_count": 73,
   "metadata": {},
   "outputs": [
    {
     "data": {
      "text/html": [
       "<div>\n",
       "<style scoped>\n",
       "    .dataframe tbody tr th:only-of-type {\n",
       "        vertical-align: middle;\n",
       "    }\n",
       "\n",
       "    .dataframe tbody tr th {\n",
       "        vertical-align: top;\n",
       "    }\n",
       "\n",
       "    .dataframe thead th {\n",
       "        text-align: right;\n",
       "    }\n",
       "</style>\n",
       "<table border=\"1\" class=\"dataframe\">\n",
       "  <thead>\n",
       "    <tr style=\"text-align: right;\">\n",
       "      <th></th>\n",
       "      <th>id</th>\n",
       "      <th>pol</th>\n",
       "      <th>sent_id</th>\n",
       "      <th>sentence</th>\n",
       "      <th>sentence_clean</th>\n",
       "    </tr>\n",
       "  </thead>\n",
       "  <tbody>\n",
       "    <tr>\n",
       "      <th>0</th>\n",
       "      <td>0</td>\n",
       "      <td>neg</td>\n",
       "      <td>0</td>\n",
       "      <td>Story of a man who has unnatural feelings for ...</td>\n",
       "      <td>&lt;s story of a man who has unnatural feelings f...</td>\n",
       "    </tr>\n",
       "    <tr>\n",
       "      <th>1</th>\n",
       "      <td>0</td>\n",
       "      <td>neg</td>\n",
       "      <td>1</td>\n",
       "      <td>Starts out with a opening scene that is a ter...</td>\n",
       "      <td>&lt;s  starts out with a opening scene that is a ...</td>\n",
       "    </tr>\n",
       "    <tr>\n",
       "      <th>2</th>\n",
       "      <td>0</td>\n",
       "      <td>neg</td>\n",
       "      <td>2</td>\n",
       "      <td>A formal orchestra audience is turned into an...</td>\n",
       "      <td>&lt;s  a formal orchestra audience is turned into...</td>\n",
       "    </tr>\n",
       "    <tr>\n",
       "      <th>3</th>\n",
       "      <td>0</td>\n",
       "      <td>neg</td>\n",
       "      <td>3</td>\n",
       "      <td>Unfortunately it stays absurd the WHOLE time ...</td>\n",
       "      <td>&lt;s  unfortunately it stays absurd the whole ti...</td>\n",
       "    </tr>\n",
       "    <tr>\n",
       "      <th>4</th>\n",
       "      <td>0</td>\n",
       "      <td>neg</td>\n",
       "      <td>4</td>\n",
       "      <td>Even those from the era should be turned off</td>\n",
       "      <td>&lt;s  even those from the era should be turned o...</td>\n",
       "    </tr>\n",
       "  </tbody>\n",
       "</table>\n",
       "</div>"
      ],
      "text/plain": [
       "   id  pol  sent_id                                           sentence  \\\n",
       "0   0  neg        0  Story of a man who has unnatural feelings for ...   \n",
       "1   0  neg        1   Starts out with a opening scene that is a ter...   \n",
       "2   0  neg        2   A formal orchestra audience is turned into an...   \n",
       "3   0  neg        3   Unfortunately it stays absurd the WHOLE time ...   \n",
       "4   0  neg        4       Even those from the era should be turned off   \n",
       "\n",
       "                                      sentence_clean  \n",
       "0  <s story of a man who has unnatural feelings f...  \n",
       "1  <s  starts out with a opening scene that is a ...  \n",
       "2  <s  a formal orchestra audience is turned into...  \n",
       "3  <s  unfortunately it stays absurd the whole ti...  \n",
       "4  <s  even those from the era should be turned o...  "
      ]
     },
     "execution_count": 73,
     "metadata": {},
     "output_type": "execute_result"
    }
   ],
   "source": [
    "train_data_sent['sentence_clean'] = train_data_sent['sentence'].str.replace('[{}]'.format(string.punctuation), '')\n",
    "train_data_sent['sentence_clean'] = train_data_sent['sentence_clean'].str.lower()\n",
    "\n",
    "train_data_sent['sentence_clean'] = '<s ' + train_data_sent['sentence_clean']\n",
    "train_data_sent['sentence_clean'] = train_data_sent['sentence_clean'] + ' /s>'\n",
    "\n",
    "train_data_sent.head()"
   ]
  },
  {
   "cell_type": "code",
   "execution_count": 74,
   "metadata": {},
   "outputs": [
    {
     "data": {
      "text/plain": [
       "'<s story of a man who has unnatural feelings for a pig /s> <s  starts out with a opening scene that '"
      ]
     },
     "execution_count": 74,
     "metadata": {},
     "output_type": "execute_result"
    }
   ],
   "source": [
    "text = train_data_sent['sentence_clean']\n",
    "text_list = \" \".join(map(str, text))\n",
    "text_list[0:100]"
   ]
  },
  {
   "cell_type": "code",
   "execution_count": 75,
   "metadata": {},
   "outputs": [],
   "source": [
    "word_list = pd.DataFrame({'words':text.str.split(' ', expand = True).stack().unique()})"
   ]
  },
  {
   "cell_type": "code",
   "execution_count": 98,
   "metadata": {},
   "outputs": [
    {
     "name": "stdout",
     "output_type": "stream",
     "text": [
      "Proportion of words completed: 99.99 %\n"
     ]
    }
   ],
   "source": [
    "word_count_table = pd.DataFrame()\n",
    "for n,word in enumerate(word_list['words']):\n",
    "    # Create a list of just the word we are interested in, we use regular expressions so that part of words do not count\n",
    "    # e.g. 'ear' would be counted in each appearance of the word 'year'\n",
    "    word_count = len(re.findall(' ' + word + ' ', text_list))  \n",
    "    word_count_table = word_count_table.append(pd.DataFrame({'count':word_count}, index=[n]))\n",
    "    \n",
    "    clear_output(wait=True)\n",
    "    print('Proportion of words completed:', np.round(n/len(word_list),4)*100,'%')\n",
    "\n",
    "word_list['count'] = word_count_table['count']\n",
    "# Remove the count for the start and end of sentence notation so \n",
    "# that these do not inflate the other probabilities\n",
    "word_list['count'] = np.where(word_list['words'] == '<s' , 0,\n",
    "                     np.where(word_list['words'] == '/s>', 0,\n",
    "                     word_list['count']))"
   ]
  },
  {
   "cell_type": "code",
   "execution_count": 96,
   "metadata": {},
   "outputs": [
    {
     "data": {
      "text/html": [
       "<div>\n",
       "<style scoped>\n",
       "    .dataframe tbody tr th:only-of-type {\n",
       "        vertical-align: middle;\n",
       "    }\n",
       "\n",
       "    .dataframe tbody tr th {\n",
       "        vertical-align: top;\n",
       "    }\n",
       "\n",
       "    .dataframe thead th {\n",
       "        text-align: right;\n",
       "    }\n",
       "</style>\n",
       "<table border=\"1\" class=\"dataframe\">\n",
       "  <thead>\n",
       "    <tr style=\"text-align: right;\">\n",
       "      <th></th>\n",
       "      <th>words</th>\n",
       "      <th>count</th>\n",
       "      <th>prob</th>\n",
       "      <th>w-len</th>\n",
       "      <th>rank</th>\n",
       "      <th>mul_count_rank</th>\n",
       "    </tr>\n",
       "  </thead>\n",
       "  <tbody>\n",
       "    <tr>\n",
       "      <th>34</th>\n",
       "      <td>the</td>\n",
       "      <td>12297</td>\n",
       "      <td>0.054378</td>\n",
       "      <td>3</td>\n",
       "      <td>1.0</td>\n",
       "      <td>12297.0</td>\n",
       "    </tr>\n",
       "    <tr>\n",
       "      <th>12</th>\n",
       "      <td></td>\n",
       "      <td>11032</td>\n",
       "      <td>0.048784</td>\n",
       "      <td>0</td>\n",
       "      <td>2.0</td>\n",
       "      <td>22064.0</td>\n",
       "    </tr>\n",
       "    <tr>\n",
       "      <th>3</th>\n",
       "      <td>a</td>\n",
       "      <td>5911</td>\n",
       "      <td>0.026139</td>\n",
       "      <td>1</td>\n",
       "      <td>3.0</td>\n",
       "      <td>17733.0</td>\n",
       "    </tr>\n",
       "    <tr>\n",
       "      <th>87</th>\n",
       "      <td>and</td>\n",
       "      <td>5350</td>\n",
       "      <td>0.023658</td>\n",
       "      <td>3</td>\n",
       "      <td>4.0</td>\n",
       "      <td>21400.0</td>\n",
       "    </tr>\n",
       "    <tr>\n",
       "      <th>2</th>\n",
       "      <td>of</td>\n",
       "      <td>5156</td>\n",
       "      <td>0.022800</td>\n",
       "      <td>2</td>\n",
       "      <td>5.0</td>\n",
       "      <td>25780.0</td>\n",
       "    </tr>\n",
       "    <tr>\n",
       "      <th>66</th>\n",
       "      <td>to</td>\n",
       "      <td>5152</td>\n",
       "      <td>0.022782</td>\n",
       "      <td>2</td>\n",
       "      <td>6.0</td>\n",
       "      <td>30912.0</td>\n",
       "    </tr>\n",
       "    <tr>\n",
       "      <th>19</th>\n",
       "      <td>is</td>\n",
       "      <td>3738</td>\n",
       "      <td>0.016530</td>\n",
       "      <td>2</td>\n",
       "      <td>7.0</td>\n",
       "      <td>26166.0</td>\n",
       "    </tr>\n",
       "    <tr>\n",
       "      <th>124</th>\n",
       "      <td>in</td>\n",
       "      <td>3223</td>\n",
       "      <td>0.014252</td>\n",
       "      <td>2</td>\n",
       "      <td>8.0</td>\n",
       "      <td>25784.0</td>\n",
       "    </tr>\n",
       "    <tr>\n",
       "      <th>177</th>\n",
       "      <td>i</td>\n",
       "      <td>3219</td>\n",
       "      <td>0.014235</td>\n",
       "      <td>1</td>\n",
       "      <td>9.0</td>\n",
       "      <td>28971.0</td>\n",
       "    </tr>\n",
       "    <tr>\n",
       "      <th>101</th>\n",
       "      <td>this</td>\n",
       "      <td>3043</td>\n",
       "      <td>0.013456</td>\n",
       "      <td>4</td>\n",
       "      <td>10.0</td>\n",
       "      <td>30430.0</td>\n",
       "    </tr>\n",
       "    <tr>\n",
       "      <th>40</th>\n",
       "      <td>it</td>\n",
       "      <td>2914</td>\n",
       "      <td>0.012886</td>\n",
       "      <td>2</td>\n",
       "      <td>11.0</td>\n",
       "      <td>32054.0</td>\n",
       "    </tr>\n",
       "    <tr>\n",
       "      <th>18</th>\n",
       "      <td>that</td>\n",
       "      <td>2737</td>\n",
       "      <td>0.012103</td>\n",
       "      <td>4</td>\n",
       "      <td>12.0</td>\n",
       "      <td>32844.0</td>\n",
       "    </tr>\n",
       "    <tr>\n",
       "      <th>168</th>\n",
       "      <td>was</td>\n",
       "      <td>1963</td>\n",
       "      <td>0.008680</td>\n",
       "      <td>3</td>\n",
       "      <td>13.0</td>\n",
       "      <td>25519.0</td>\n",
       "    </tr>\n",
       "    <tr>\n",
       "      <th>102</th>\n",
       "      <td>movie</td>\n",
       "      <td>1954</td>\n",
       "      <td>0.008641</td>\n",
       "      <td>5</td>\n",
       "      <td>14.0</td>\n",
       "      <td>27356.0</td>\n",
       "    </tr>\n",
       "    <tr>\n",
       "      <th>141</th>\n",
       "      <td>br</td>\n",
       "      <td>1915</td>\n",
       "      <td>0.008468</td>\n",
       "      <td>2</td>\n",
       "      <td>15.0</td>\n",
       "      <td>28725.0</td>\n",
       "    </tr>\n",
       "    <tr>\n",
       "      <th>139</th>\n",
       "      <td>but</td>\n",
       "      <td>1606</td>\n",
       "      <td>0.007102</td>\n",
       "      <td>3</td>\n",
       "      <td>16.0</td>\n",
       "      <td>25696.0</td>\n",
       "    </tr>\n",
       "    <tr>\n",
       "      <th>9</th>\n",
       "      <td>for</td>\n",
       "      <td>1581</td>\n",
       "      <td>0.006991</td>\n",
       "      <td>3</td>\n",
       "      <td>17.0</td>\n",
       "      <td>26877.0</td>\n",
       "    </tr>\n",
       "    <tr>\n",
       "      <th>15</th>\n",
       "      <td>with</td>\n",
       "      <td>1527</td>\n",
       "      <td>0.006752</td>\n",
       "      <td>4</td>\n",
       "      <td>18.0</td>\n",
       "      <td>27486.0</td>\n",
       "    </tr>\n",
       "    <tr>\n",
       "      <th>212</th>\n",
       "      <td>as</td>\n",
       "      <td>1504</td>\n",
       "      <td>0.006651</td>\n",
       "      <td>2</td>\n",
       "      <td>19.0</td>\n",
       "      <td>28576.0</td>\n",
       "    </tr>\n",
       "    <tr>\n",
       "      <th>116</th>\n",
       "      <td>not</td>\n",
       "      <td>1256</td>\n",
       "      <td>0.005554</td>\n",
       "      <td>3</td>\n",
       "      <td>20.0</td>\n",
       "      <td>25120.0</td>\n",
       "    </tr>\n",
       "  </tbody>\n",
       "</table>\n",
       "</div>"
      ],
      "text/plain": [
       "     words  count      prob  w-len  rank  mul_count_rank\n",
       "34     the  12297  0.054378      3   1.0         12297.0\n",
       "12          11032  0.048784      0   2.0         22064.0\n",
       "3        a   5911  0.026139      1   3.0         17733.0\n",
       "87     and   5350  0.023658      3   4.0         21400.0\n",
       "2       of   5156  0.022800      2   5.0         25780.0\n",
       "66      to   5152  0.022782      2   6.0         30912.0\n",
       "19      is   3738  0.016530      2   7.0         26166.0\n",
       "124     in   3223  0.014252      2   8.0         25784.0\n",
       "177      i   3219  0.014235      1   9.0         28971.0\n",
       "101   this   3043  0.013456      4  10.0         30430.0\n",
       "40      it   2914  0.012886      2  11.0         32054.0\n",
       "18    that   2737  0.012103      4  12.0         32844.0\n",
       "168    was   1963  0.008680      3  13.0         25519.0\n",
       "102  movie   1954  0.008641      5  14.0         27356.0\n",
       "141     br   1915  0.008468      2  15.0         28725.0\n",
       "139    but   1606  0.007102      3  16.0         25696.0\n",
       "9      for   1581  0.006991      3  17.0         26877.0\n",
       "15    with   1527  0.006752      4  18.0         27486.0\n",
       "212     as   1504  0.006651      2  19.0         28576.0\n",
       "116    not   1256  0.005554      3  20.0         25120.0"
      ]
     },
     "execution_count": 96,
     "metadata": {},
     "output_type": "execute_result"
    }
   ],
   "source": [
    "word_list['prob'] = word_list['count']/sum(word_list['count'])\n",
    "word_list = word_list.sort_values(ascending=False ,by='prob')\n",
    "word_list['w-len'] = word_list['words'].str.len()\n",
    "word_list['rank'] = word_list['count'].rank(method='first',ascending=False)\n",
    "word_list['mul_count_rank'] = word_list['count']*word_list['rank']\n",
    "\n",
    "word_list.head(20)"
   ]
  },
  {
   "cell_type": "code",
   "execution_count": 97,
   "metadata": {},
   "outputs": [
    {
     "data": {
      "text/plain": [
       "<AxesSubplot:xlabel='count', ylabel='mul_count_rank'>"
      ]
     },
     "execution_count": 97,
     "metadata": {},
     "output_type": "execute_result"
    },
    {
     "data": {
      "image/png": "[encoded data removed]",
      "text/plain": [
       "<Figure size 432x288 with 1 Axes>"
      ]
     },
     "metadata": {
      "needs_background": "light"
     },
     "output_type": "display_data"
    }
   ],
   "source": [
    "word_list.head(10)\n",
    "word_list.plot.scatter(x=\"count\", y=\"mul_count_rank\", alpha=0.5)"
   ]
  },
  {
   "cell_type": "code",
   "execution_count": 92,
   "metadata": {},
   "outputs": [
    {
     "name": "stderr",
     "output_type": "stream",
     "text": [
      "[nltk_data] Error loading gutenberg: <urlopen error [Errno 54]\n",
      "[nltk_data]     Connection reset by peer>\n"
     ]
    },
    {
     "data": {
      "text/plain": [
       "False"
      ]
     },
     "execution_count": 92,
     "metadata": {},
     "output_type": "execute_result"
    }
   ],
   "source": [
    "nltk.download('gutenberg')"
   ]
  },
  {
   "cell_type": "code",
   "execution_count": null,
   "metadata": {},
   "outputs": [],
   "source": [
    "#数据\n",
    "x_num=np.array(np.arange(15))\n",
    "y_num=10*x_num+20*np.random.random(15)\n",
    "fig = plt.figure()\n",
    "# 画图（点图）\n",
    "# fig, ax = plt.subplots()\n",
    " \n",
    "ax = fig.add_subplot(3,2,1)\n",
    "ax.scatter(x_num, y_num)\n",
    "ax.set_xlabel('x')\n",
    "ax.set_ylabel(' y')\n",
    "plt.show()"
   ]
  },
  {
   "cell_type": "code",
   "execution_count": null,
   "metadata": {},
   "outputs": [],
   "source": [
    "unigram_table = pd.DataFrame()\n",
    "\n",
    "start_time = time.time()\n",
    "# Loop through each sentence\n",
    "# REMOVE ROW LIMIT FOR FULL RUN\n",
    "for index in train_data_sent[0:200].index:#get top 200\n",
    "    data_row = train_data_sent.iloc[index,:]\n",
    "\n",
    "    sent_probs = pd.DataFrame()\n",
    "    # Go through each word in the sentence, lookup the probability of the word and \n",
    "    # then find the mulitplicitive product of all probabilities in the sentence.\n",
    "    for n,word in enumerate(data_row['sentence_clean'].split(' ')):\n",
    "        sent_probs = sent_probs.append(pd.DataFrame({'prob':word_list[ word_list['words']==word]['prob']}, index = [n]))\n",
    "    unigram = sent_probs['prob'].prod(axis=0)\n",
    "    \n",
    "    # Create a list of unigram calculation for each sentence\n",
    "    unigram_table = unigram_table.append(pd.DataFrame({'unigram':unigram},index = [index]))\n",
    "    \n",
    "    clear_output(wait=True)\n",
    "    print('Proportion of sentences completed:', np.round(index/len(train_data_sent),4)*100,'%')\n",
    "        \n",
    "end_time = time.time()\n",
    "print('Total run time = ', np.round(end_time-start_time,2)/60, ' minutes')\n",
    "\n",
    "train_data_sent['unigram'] = unigram_table['unigram']"
   ]
  },
  {
   "cell_type": "code",
   "execution_count": null,
   "metadata": {},
   "outputs": [],
   "source": [
    "unigram_table.head(50)"
   ]
  },
  {
   "cell_type": "code",
   "execution_count": null,
   "metadata": {},
   "outputs": [],
   "source": [
    "unigram_table_log = pd.DataFrame()\n",
    "\n",
    "start_time_log = time.time()\n",
    "# Loop through each sentence\n",
    "# REMOVE ROW LIMIT FOR FULL RUN\n",
    "for index in train_data_sent[0:200].index:\n",
    "    data_row = train_data_sent.iloc[index,:]\n",
    "\n",
    "    sent_probs = pd.DataFrame()\n",
    "    # Go through each word in the sentence, lookup the probability of the word and \n",
    "    # then find the mulitplicitive product of all probabilities in the sentence.\n",
    "    for n,word in enumerate(data_row['sentence_clean']):\n",
    "        log_prob = np.log10(word_list[ word_list['words']==word]['prob'])\n",
    "        sent_probs = sent_probs.append(pd.DataFrame({'log_prob':log_prob}, index = [n]))\n",
    "        \n",
    "    unigram_log = sum(sent_probs['log_prob'])\n",
    "    \n",
    "    # Create a list of unigram calculation for each sentence\n",
    "    unigram_table_log = unigram_table.append(pd.DataFrame({'unigram_log':unigram_log},index = [index]))\n",
    "                                         \n",
    "    clear_output(wait=True)\n",
    "    print('Proportion of sentences completed:', np.round(index/len(train_data_sent),4)*100,'%')\n",
    "                                                                   \n",
    "end_time_log = time.time()\n",
    "print('Total run time = ', np.round(end_time_log-start_time_log,2)/60, ' minutes')\n",
    "\n",
    "#train_data_sent['unigram_log'] = unigram_table_log['unigram_log']"
   ]
  },
  {
   "cell_type": "code",
   "execution_count": null,
   "metadata": {},
   "outputs": [],
   "source": [
    "word_1 = 'to'\n",
    "word_2 = 'a'\n",
    "\n",
    "prob_word_1 = word_list[word_list['words'] == word_1]['prob'].iloc[0]\n",
    "prob_word_2 = word_list[word_list['words'] == word_2]['prob'].iloc[0]\n",
    "\n",
    "unigram_prob = prob_word_1*prob_word_2\n",
    "\n",
    "print('The unigram probability of the word \"a\" occuring given the word \"to\" was the previous word is: ', np.round(unigram_prob,10))"
   ]
  },
  {
   "cell_type": "code",
   "execution_count": null,
   "metadata": {},
   "outputs": [],
   "source": [
    "word_1 = ' ' + str('to') + ' '\n",
    "word_2 = str('a') + ' '\n",
    "\n",
    "bigram_prob = len(re.findall(word_1 + word_2, text_list)) / len(re.findall(word_1, text_list)) \n",
    "\n",
    "print('The probability of the word \"a\" occuring given the word \"to\" was the previous word is: ', np.round(bigram_prob,5))"
   ]
  },
  {
   "cell_type": "code",
   "execution_count": null,
   "metadata": {},
   "outputs": [],
   "source": [
    "W_W_Matrix = pd.DataFrame({'words': word_list['words']})\n",
    "\n",
    "start_time = time.time()\n",
    "\n",
    "\n",
    "# Add limits to number of columns/rows so this doesn't run for ages\n",
    "column_lim = 1000\n",
    "#column_lim = len(W_W_Matrix)\n",
    "row_lim = 10\n",
    "#row_lim = len(W_W_Matrix)\n",
    "\n",
    "for r, column in enumerate(W_W_Matrix['words'][0:column_lim]):\n",
    "    \n",
    "    prob_table = pd.DataFrame()\n",
    "    for i, row in enumerate(W_W_Matrix['words'][0:row_lim]):\n",
    "\n",
    "        word_1 = ' ' + str(row) + ' '\n",
    "        word_2 = str(column) + ' '\n",
    "\n",
    "        if len(re.findall(word_1, text_list)) == 0:\n",
    "            prob = pd.DataFrame({'prob':[0]}, index=[i])\n",
    "        else:\n",
    "            prob = pd.DataFrame({'prob':[len(re.findall(word_1 + word_2, text_list)) / len(re.findall(word_1, text_list)) ]}, index=[i])\n",
    "        \n",
    "        prob_table = prob_table.append(prob)\n",
    "    W_W_Matrix[str(column)] = prob_table['prob']\n",
    "    \n",
    "    # Outputs progress of main loop, see:\n",
    "    clear_output(wait=True)\n",
    "    print('Proportion of column words completed:', np.round(r/len(W_W_Matrix[0:column_lim]),2)*100,'%')\n",
    "    \n",
    "end_time = time.time()\n",
    "print('Total run time = ', np.round(end_time-start_time,2)/60, ' minutes')"
   ]
  },
  {
   "cell_type": "code",
   "execution_count": null,
   "metadata": {},
   "outputs": [],
   "source": [
    "W_W_Matrix.head(10)"
   ]
  },
  {
   "cell_type": "code",
   "execution_count": null,
   "metadata": {},
   "outputs": [],
   "source": [
    "for i in range(0,row_lim):\n",
    "    plt.bar(W_W_Matrix.iloc[i,1:].sort_values(ascending=False)[1:10].index,W_W_Matrix.iloc[i,1:].sort_values(ascending=False)[1:10].values)\n",
    "    plt.title('Most Common Words that Follow the word: ' +str(W_W_Matrix.iloc[i,0]))\n",
    "    plt.show()"
   ]
  },
  {
   "cell_type": "code",
   "execution_count": null,
   "metadata": {},
   "outputs": [],
   "source": [
    "p = np.linspace(0,1,50)\n",
    "H = [-(p*np.log2(p) + (1-p)*np.log(1-p)) for p in p]\n",
    "# Replace nan output with 0 \n",
    "H = [0 if math.isnan(x) else x for x in H]\n",
    "\n",
    "plt.plot(p,H)\n",
    "plt.xlim([-0.05,1.05])\n",
    "plt.ylim([-0.05,1])\n",
    "plt.xlabel('Probability of Heads (p)')\n",
    "plt.ylabel('Entropy (H(p))')\n",
    "plt.title('The Entropy of a Bias Coin as \\n the Probabilitiy of Heads Varies')"
   ]
  },
  {
   "cell_type": "code",
   "execution_count": null,
   "metadata": {},
   "outputs": [],
   "source": [
    "sent_1 = text.iloc[0]\n",
    "sent_2 = text.iloc[1]\n",
    "\n",
    "print('Sentence 1', sent_1)\n",
    "print('--.--.--.--.--.--.--.--')\n",
    "print('Sentence 2', sent_2)"
   ]
  },
  {
   "cell_type": "code",
   "execution_count": null,
   "metadata": {},
   "outputs": [],
   "source": [
    "data_prob = word_list[['words','count','prob']]\n",
    "data_prob.head()"
   ]
  },
  {
   "cell_type": "code",
   "execution_count": null,
   "metadata": {},
   "outputs": [],
   "source": [
    "def entropy(sentence, data_prob):\n",
    "    entropy_table = pd.DataFrame()\n",
    "    for n,word in enumerate(sentence.split(' ')):\n",
    "        # log2(0) provide nan so return 0 instead\n",
    "        if ((data_prob[data_prob['words']==word]['prob'].iloc[0]) == 0):\n",
    "            entropy = 0\n",
    "        else:\n",
    "            prob = data_prob[data_prob['words']==word]['prob'].iloc[0]\n",
    "            entropy = prob*np.log2(prob)\n",
    "        entropy_table = entropy_table.append(pd.DataFrame({'word':word,\n",
    "                                                            'entropy':entropy}, index = [n]))\n",
    "    phrase_entropy = -1*sum(entropy_table['entropy'])\n",
    "    return(phrase_entropy)"
   ]
  },
  {
   "cell_type": "code",
   "execution_count": null,
   "metadata": {},
   "outputs": [],
   "source": [
    "sent_1_entropy = entropy(sent_1,data_prob)\n",
    "sent_2_entropy = entropy(sent_2,data_prob)\n",
    "\n",
    "print('Sentence 1: ', sent_1)\n",
    "print('Sentence 1 entropy: ', np.round(sent_1_entropy,5))\n",
    "print('Per-word Sentence 1 entropy: ', np.round(sent_1_entropy/len(sent_1.split(' ')),5))\n",
    "\n",
    "print('--.--.--.--.--.--.--.--')\n",
    "print('Sentence 2: ', sent_2)\n",
    "print('Sentence 2 entropy: ', np.round(sent_2_entropy,5))\n",
    "print('Per-word Sentence 2 entropy: ', np.round(sent_2_entropy/len(sent_2.split(' ')),5))"
   ]
  }
 ],
 "metadata": {
  "interpreter": {
   "hash": "f87c41940a98a1a06bde016bc11ff418ea3d5a21d6fa78193519d8f174f35359"
  },
  "kernelspec": {
   "display_name": "Python 3.9.7 64-bit ('stopwords': conda)",
   "name": "python3"
  },
  "language_info": {
   "codemirror_mode": {
    "name": "ipython",
    "version": 3
   },
   "file_extension": ".py",
   "mimetype": "text/x-python",
   "name": "python",
   "nbconvert_exporter": "python",
   "pygments_lexer": "ipython3",
   "version": "3.9.7"
  },
  "orig_nbformat": 4
 },
 "nbformat": 4,
 "nbformat_minor": 2
}
