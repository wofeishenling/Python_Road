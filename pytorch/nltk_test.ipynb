{
 "cells": [
  {
   "cell_type": "code",
   "execution_count": 1,
   "metadata": {},
   "outputs": [],
   "source": [
    "import nltk\n",
    "import matplotlib.pyplot as plt\n",
    "from nltk.corpus import gutenberg as gb\n",
    "from nltk.util import pad_sequence\n",
    "from nltk.util import bigrams\n",
    "from nltk.util import ngrams\n",
    "from nltk.util import everygrams\n",
    "from nltk.lm.preprocessing import pad_both_ends\n",
    "from nltk.lm.preprocessing import flatten\n",
    "from nltk import word_tokenize, sent_tokenize \n",
    "import pandas as pd"
   ]
  },
  {
   "cell_type": "markdown",
   "metadata": {},
   "source": [
    "古腾堡语料库 NLTK包含古腾堡项目（Project Gutenberg）电子文档的一小部分文本。 该项目大约有25000（现在是36000）本免费电子书。 我们通过平均句子长度和平均词种数（词语丰富度）这两个特征，来看不同作者的写作风格。\n",
    "\n",
    "NLTK的古腾堡语料库收集的都是不同作家的书"
   ]
  },
  {
   "cell_type": "code",
   "execution_count": 2,
   "metadata": {},
   "outputs": [
    {
     "name": "stderr",
     "output_type": "stream",
     "text": [
      "[nltk_data] Downloading package gutenberg to\n",
      "[nltk_data]     /Users/wofeishenling/nltk_data...\n",
      "[nltk_data]   Package gutenberg is already up-to-date!\n",
      "[nltk_data] Downloading package punkt to\n",
      "[nltk_data]     /Users/wofeishenling/nltk_data...\n",
      "[nltk_data]   Package punkt is already up-to-date!\n"
     ]
    },
    {
     "name": "stdout",
     "output_type": "stream",
     "text": [
      "['[', 'The', 'Tragedie', 'of', 'Hamlet', 'by', ...]\n",
      "[['[', 'The', 'Tragedie', 'of', 'Hamlet', 'by', 'William', 'Shakespeare', '1599', ']'], ['Actus', 'Primus', '.'], ...]\n"
     ]
    }
   ],
   "source": [
    "nltk.download('gutenberg')\n",
    "nltk.download('punkt')\n",
    "#nltk.download('movie_reviews')#电影评论\n",
    "#nltk.download('webtext') #网络和聊天文本\n",
    "from nltk.corpus import gutenberg\n",
    "from nltk.corpus import webtext\n",
    "from nltk.corpus import movie_reviews\n",
    "#print(gutenberg.fileids())\n",
    "hamlet = gutenberg.words('shakespeare-hamlet.txt')  # 获取shakespeare-hamlet.txt这个文件的单词\n",
    "print(hamlet)\n",
    "hamlets = gutenberg.sents('shakespeare-hamlet.txt')  # 获取shakespeare-hamlet.txt这个文件的句子\n",
    "print(hamlets)\n",
    "send_table = [] # 得到text的二维str数组\n",
    "text_string = '' # text纯string表示\n",
    "p = ''',.\";:'?()[]!`'''\n",
    "data_source = gutenberg\n",
    "for text_id in data_source.fileids()[0:2]:\n",
    "    unit = data_source.sents(text_id)\n",
    "    for s in unit:\n",
    "        sent = []\n",
    "        sent.append('<s')\n",
    "        for word in s:\n",
    "            if len(word)==1 and word in p:\n",
    "                continue #在此增加if条件可以去除停用词等\n",
    "            word = word.lower()\n",
    "            sent.append(word)\n",
    "            text_string+=word+' '\n",
    "        sent.append('/s>')\n",
    "        send_table.append(sent)"
   ]
  },
  {
   "cell_type": "code",
   "execution_count": null,
   "metadata": {},
   "outputs": [],
   "source": [
    "try: # Use the default NLTK tokenizer.\n",
    "    from nltk import word_tokenize, sent_tokenize \n",
    "    # Testing whether it works. \n",
    "    # Sometimes it doesn't work on some machines because of setup issues.\n",
    "    word_tokenize(sent_tokenize(\"This is a foobar sentence. Yes it is.\")[0])\n",
    "except: # Use a naive sentence tokenizer and toktok.\n",
    "    import re\n",
    "    from nltk.tokenize import ToktokTokenizer\n",
    "    # See https://stackoverflow.com/a/25736515/610569\n",
    "    sent_tokenize = lambda x: re.split(r'(?<=[^A-Z].[.?]) +(?=[A-Z])', x)\n",
    "    # Use the toktok tokenizer that requires no dependencies.\n",
    "    toktok = ToktokTokenizer()\n",
    "    word_tokenize = word_tokenize = toktok.tokenize"
   ]
  },
  {
   "cell_type": "code",
   "execution_count": null,
   "metadata": {},
   "outputs": [],
   "source": [
    "import os\n",
    "import requests\n",
    "import io #codecs\n",
    "\n",
    "\n",
    "# Text version of https://kilgarriff.co.uk/Publications/2005-K-lineer.pdf\n",
    "if os.path.isfile('language-never-random.txt'):\n",
    "    with io.open('language-never-random.txt', encoding='utf8') as fin:\n",
    "        text = fin.read()\n",
    "else:\n",
    "    url = \"https://gist.githubusercontent.com/alvations/53b01e4076573fea47c6057120bb017a/raw/b01ff96a5f76848450e648f35da6497ca9454e4a/language-never-random.txt\"\n",
    "    text = requests.get(url).content.decode('utf8')\n",
    "    with io.open('language-never-random.txt', 'w', encoding='utf8') as fout:\n",
    "        fout.write(text)"
   ]
  },
  {
   "cell_type": "code",
   "execution_count": null,
   "metadata": {},
   "outputs": [],
   "source": [
    "# Tokenize the text.\n",
    "tokenized_text = [list(map(str.lower, word_tokenize(sent))) \n",
    "                  for sent in sent_tokenize(text)]"
   ]
  },
  {
   "cell_type": "code",
   "execution_count": 5,
   "metadata": {},
   "outputs": [
    {
     "ename": "NameError",
     "evalue": "name 'tokenized_text' is not defined",
     "output_type": "error",
     "traceback": [
      "\u001b[0;31m---------------------------------------------------------------------------\u001b[0m",
      "\u001b[0;31mNameError\u001b[0m                                 Traceback (most recent call last)",
      "\u001b[0;32m/var/folders/w4/8v89ydfd66g9rp7d34g3xdbw0000gn/T/ipykernel_883/4216933507.py\u001b[0m in \u001b[0;36m<module>\u001b[0;34m\u001b[0m\n\u001b[1;32m      1\u001b[0m \u001b[0;32mimport\u001b[0m \u001b[0mstring\u001b[0m\u001b[0;34m\u001b[0m\u001b[0;34m\u001b[0m\u001b[0m\n\u001b[1;32m      2\u001b[0m \u001b[0msent_t\u001b[0m \u001b[0;34m=\u001b[0m \u001b[0;34m[\u001b[0m\u001b[0;34m]\u001b[0m\u001b[0;34m\u001b[0m\u001b[0;34m\u001b[0m\u001b[0m\n\u001b[0;32m----> 3\u001b[0;31m \u001b[0;32mfor\u001b[0m \u001b[0mw_l\u001b[0m \u001b[0;32min\u001b[0m \u001b[0mtokenized_text\u001b[0m\u001b[0;34m:\u001b[0m\u001b[0;34m\u001b[0m\u001b[0;34m\u001b[0m\u001b[0m\n\u001b[0m\u001b[1;32m      4\u001b[0m     \u001b[0msent_t\u001b[0m\u001b[0;34m.\u001b[0m\u001b[0mappend\u001b[0m\u001b[0;34m(\u001b[0m\u001b[0;34m' '\u001b[0m\u001b[0;34m.\u001b[0m\u001b[0mjoin\u001b[0m\u001b[0;34m(\u001b[0m\u001b[0mw_l\u001b[0m\u001b[0;34m)\u001b[0m\u001b[0;34m.\u001b[0m\u001b[0mreplace\u001b[0m\u001b[0;34m(\u001b[0m\u001b[0;34m','\u001b[0m\u001b[0;34m,\u001b[0m\u001b[0;34m''\u001b[0m\u001b[0;34m)\u001b[0m\u001b[0;34m.\u001b[0m\u001b[0mreplace\u001b[0m\u001b[0;34m(\u001b[0m\u001b[0;34m'- '\u001b[0m\u001b[0;34m,\u001b[0m\u001b[0;34m''\u001b[0m\u001b[0;34m)\u001b[0m\u001b[0;34m.\u001b[0m\u001b[0mreplace\u001b[0m\u001b[0;34m(\u001b[0m\u001b[0;34m'.'\u001b[0m\u001b[0;34m,\u001b[0m\u001b[0;34m''\u001b[0m\u001b[0;34m)\u001b[0m\u001b[0;34m.\u001b[0m\u001b[0mreplace\u001b[0m\u001b[0;34m(\u001b[0m\u001b[0;34m'  '\u001b[0m\u001b[0;34m,\u001b[0m\u001b[0;34m' '\u001b[0m\u001b[0;34m)\u001b[0m\u001b[0;34m)\u001b[0m\u001b[0;34m\u001b[0m\u001b[0;34m\u001b[0m\u001b[0m\n\u001b[1;32m      5\u001b[0m \u001b[0md\u001b[0m \u001b[0;34m=\u001b[0m \u001b[0;34m{\u001b[0m\u001b[0;34m'sentence'\u001b[0m\u001b[0;34m:\u001b[0m\u001b[0msent_t\u001b[0m\u001b[0;34m}\u001b[0m\u001b[0;34m\u001b[0m\u001b[0;34m\u001b[0m\u001b[0m\n",
      "\u001b[0;31mNameError\u001b[0m: name 'tokenized_text' is not defined"
     ]
    }
   ],
   "source": [
    "import string\n",
    "sent_t = []\n",
    "for w_l in tokenized_text:\n",
    "    sent_t.append(' '.join(w_l).replace(',','').replace('- ','').replace('.','').replace('  ',' '))\n",
    "d = {'sentence':sent_t}\n",
    "sent_table = pd.DataFrame(d)\n",
    "sent_list = []\n",
    "for sent in sent_table['sentence']:\n",
    "    w_list = []\n",
    "    for word in sent.split(' '):\n",
    "        w_list.append(str(word))\n",
    "    sent_list.append(w_list)\n",
    "sent_table.head()"
   ]
  },
  {
   "cell_type": "code",
   "execution_count": 3,
   "metadata": {},
   "outputs": [],
   "source": [
    "word_list =[n for a in send_table for n in a]\n",
    "word_set=set(word_list)"
   ]
  },
  {
   "cell_type": "code",
   "execution_count": 13,
   "metadata": {},
   "outputs": [
    {
     "name": "stdout",
     "output_type": "stream",
     "text": [
      "<FreqDist with 9053 samples and 258239 outcomes>\n"
     ]
    },
    {
     "data": {
      "text/html": [
       "<div>\n",
       "<style scoped>\n",
       "    .dataframe tbody tr th:only-of-type {\n",
       "        vertical-align: middle;\n",
       "    }\n",
       "\n",
       "    .dataframe tbody tr th {\n",
       "        vertical-align: top;\n",
       "    }\n",
       "\n",
       "    .dataframe thead th {\n",
       "        text-align: right;\n",
       "    }\n",
       "</style>\n",
       "<table border=\"1\" class=\"dataframe\">\n",
       "  <thead>\n",
       "    <tr style=\"text-align: right;\">\n",
       "      <th></th>\n",
       "      <th>word</th>\n",
       "      <th>cnt</th>\n",
       "    </tr>\n",
       "  </thead>\n",
       "  <tbody>\n",
       "    <tr>\n",
       "      <th>0</th>\n",
       "      <td>emma</td>\n",
       "      <td>866</td>\n",
       "    </tr>\n",
       "    <tr>\n",
       "      <th>1</th>\n",
       "      <td>by</td>\n",
       "      <td>989</td>\n",
       "    </tr>\n",
       "    <tr>\n",
       "      <th>2</th>\n",
       "      <td>jane</td>\n",
       "      <td>302</td>\n",
       "    </tr>\n",
       "    <tr>\n",
       "      <th>3</th>\n",
       "      <td>austen</td>\n",
       "      <td>2</td>\n",
       "    </tr>\n",
       "    <tr>\n",
       "      <th>4</th>\n",
       "      <td>1816</td>\n",
       "      <td>1</td>\n",
       "    </tr>\n",
       "    <tr>\n",
       "      <th>5</th>\n",
       "      <td>volume</td>\n",
       "      <td>7</td>\n",
       "    </tr>\n",
       "    <tr>\n",
       "      <th>6</th>\n",
       "      <td>i</td>\n",
       "      <td>4302</td>\n",
       "    </tr>\n",
       "    <tr>\n",
       "      <th>7</th>\n",
       "      <td>chapter</td>\n",
       "      <td>80</td>\n",
       "    </tr>\n",
       "    <tr>\n",
       "      <th>8</th>\n",
       "      <td>woodhouse</td>\n",
       "      <td>313</td>\n",
       "    </tr>\n",
       "    <tr>\n",
       "      <th>9</th>\n",
       "      <td>handsome</td>\n",
       "      <td>57</td>\n",
       "    </tr>\n",
       "  </tbody>\n",
       "</table>\n",
       "</div>"
      ],
      "text/plain": [
       "        word   cnt\n",
       "0       emma   866\n",
       "1         by   989\n",
       "2       jane   302\n",
       "3     austen     2\n",
       "4       1816     1\n",
       "5     volume     7\n",
       "6          i  4302\n",
       "7    chapter    80\n",
       "8  woodhouse   313\n",
       "9   handsome    57"
      ]
     },
     "execution_count": 13,
     "metadata": {},
     "output_type": "execute_result"
    }
   ],
   "source": [
    "# 对text_string进行词频统计\n",
    "word_list = []\n",
    "cnt_list = []\n",
    "text_tokenized = nltk.word_tokenize(text_string)\n",
    "#print(text_tokenized)   \n",
    "from nltk import FreqDist\n",
    "fdist = FreqDist(text_tokenized)\n",
    "print(fdist)\n",
    "for a,b in fdist.items():\n",
    "    word_list.append(str(a))\n",
    "    cnt_list.append(b)\n",
    "dic = {\n",
    "    'word':word_list,\n",
    "    'cnt':cnt_list\n",
    "}\n",
    "info_table = pd.DataFrame(dic)\n",
    "info_table.head(10)"
   ]
  },
  {
   "cell_type": "code",
   "execution_count": 14,
   "metadata": {},
   "outputs": [],
   "source": [
    "# Preprocess the tokenized text for 3-grams language modelling\n",
    "# send_table: list[list(str)]\n",
    "from nltk.lm.preprocessing import padded_everygram_pipeline\n",
    "n = 3\n",
    "train_data, padded_sents = padded_everygram_pipeline(n, send_table)"
   ]
  },
  {
   "cell_type": "code",
   "execution_count": 15,
   "metadata": {},
   "outputs": [],
   "source": [
    "# 使用nltk 的ngram模型\n",
    "from nltk.lm import MLE\n",
    "model = MLE(n) # Lets train a 3-grams model, previously we set n=3"
   ]
  },
  {
   "cell_type": "code",
   "execution_count": 16,
   "metadata": {},
   "outputs": [
    {
     "name": "stdout",
     "output_type": "stream",
     "text": [
      "<Vocabulary with cutoff=1 unk_label='<UNK>' and 9125 items>\n"
     ]
    }
   ],
   "source": [
    "model.fit(train_data, padded_sents)\n",
    "print(model.vocab)"
   ]
  },
  {
   "cell_type": "code",
   "execution_count": 17,
   "metadata": {},
   "outputs": [
    {
     "data": {
      "text/plain": [
       "-inf"
      ]
     },
     "execution_count": 17,
     "metadata": {},
     "output_type": "execute_result"
    }
   ],
   "source": [
    "model.logscore('william',['hamlet','by'])"
   ]
  },
  {
   "cell_type": "code",
   "execution_count": 77,
   "metadata": {},
   "outputs": [
    {
     "name": "stdout",
     "output_type": "stream",
     "text": [
      "4.808600049502064\n"
     ]
    },
    {
     "ename": "KeyboardInterrupt",
     "evalue": "",
     "output_type": "error",
     "traceback": [
      "\u001b[0;31m---------------------------------------------------------------------------\u001b[0m",
      "\u001b[0;31mKeyboardInterrupt\u001b[0m                         Traceback (most recent call last)",
      "\u001b[0;32m/var/folders/w4/8v89ydfd66g9rp7d34g3xdbw0000gn/T/ipykernel_5477/1997149840.py\u001b[0m in \u001b[0;36m<module>\u001b[0;34m\u001b[0m\n\u001b[1;32m     12\u001b[0m             \u001b[0mlog_prob\u001b[0m \u001b[0;34m=\u001b[0m \u001b[0;34m-\u001b[0m\u001b[0mmodel\u001b[0m\u001b[0;34m.\u001b[0m\u001b[0mlogscore\u001b[0m\u001b[0;34m(\u001b[0m\u001b[0mword\u001b[0m\u001b[0;34m,\u001b[0m\u001b[0;34m[\u001b[0m\u001b[0mw1\u001b[0m\u001b[0;34m,\u001b[0m\u001b[0mw2\u001b[0m\u001b[0;34m]\u001b[0m\u001b[0;34m)\u001b[0m\u001b[0;34m\u001b[0m\u001b[0;34m\u001b[0m\u001b[0m\n\u001b[1;32m     13\u001b[0m         \u001b[0mprint\u001b[0m\u001b[0;34m(\u001b[0m\u001b[0mlog_prob\u001b[0m\u001b[0;34m)\u001b[0m\u001b[0;34m\u001b[0m\u001b[0;34m\u001b[0m\u001b[0m\n\u001b[0;32m---> 14\u001b[0;31m         \u001b[0;32mif\u001b[0m \u001b[0mword\u001b[0m \u001b[0;32min\u001b[0m \u001b[0mword2sum\u001b[0m\u001b[0;34m:\u001b[0m\u001b[0;34m\u001b[0m\u001b[0;34m\u001b[0m\u001b[0m\n\u001b[0m\u001b[1;32m     15\u001b[0m             \u001b[0mword2sum\u001b[0m\u001b[0;34m[\u001b[0m\u001b[0mword\u001b[0m\u001b[0;34m]\u001b[0m \u001b[0;34m+=\u001b[0m \u001b[0mlog_prob\u001b[0m\u001b[0;34m\u001b[0m\u001b[0;34m\u001b[0m\u001b[0m\n\u001b[1;32m     16\u001b[0m         \u001b[0;32melse\u001b[0m\u001b[0;34m:\u001b[0m\u001b[0;34m\u001b[0m\u001b[0;34m\u001b[0m\u001b[0m\n",
      "\u001b[0;32m/var/folders/w4/8v89ydfd66g9rp7d34g3xdbw0000gn/T/ipykernel_5477/1997149840.py\u001b[0m in \u001b[0;36m<module>\u001b[0;34m\u001b[0m\n\u001b[1;32m     12\u001b[0m             \u001b[0mlog_prob\u001b[0m \u001b[0;34m=\u001b[0m \u001b[0;34m-\u001b[0m\u001b[0mmodel\u001b[0m\u001b[0;34m.\u001b[0m\u001b[0mlogscore\u001b[0m\u001b[0;34m(\u001b[0m\u001b[0mword\u001b[0m\u001b[0;34m,\u001b[0m\u001b[0;34m[\u001b[0m\u001b[0mw1\u001b[0m\u001b[0;34m,\u001b[0m\u001b[0mw2\u001b[0m\u001b[0;34m]\u001b[0m\u001b[0;34m)\u001b[0m\u001b[0;34m\u001b[0m\u001b[0;34m\u001b[0m\u001b[0m\n\u001b[1;32m     13\u001b[0m         \u001b[0mprint\u001b[0m\u001b[0;34m(\u001b[0m\u001b[0mlog_prob\u001b[0m\u001b[0;34m)\u001b[0m\u001b[0;34m\u001b[0m\u001b[0;34m\u001b[0m\u001b[0m\n\u001b[0;32m---> 14\u001b[0;31m         \u001b[0;32mif\u001b[0m \u001b[0mword\u001b[0m \u001b[0;32min\u001b[0m \u001b[0mword2sum\u001b[0m\u001b[0;34m:\u001b[0m\u001b[0;34m\u001b[0m\u001b[0;34m\u001b[0m\u001b[0m\n\u001b[0m\u001b[1;32m     15\u001b[0m             \u001b[0mword2sum\u001b[0m\u001b[0;34m[\u001b[0m\u001b[0mword\u001b[0m\u001b[0;34m]\u001b[0m \u001b[0;34m+=\u001b[0m \u001b[0mlog_prob\u001b[0m\u001b[0;34m\u001b[0m\u001b[0;34m\u001b[0m\u001b[0m\n\u001b[1;32m     16\u001b[0m         \u001b[0;32melse\u001b[0m\u001b[0;34m:\u001b[0m\u001b[0;34m\u001b[0m\u001b[0;34m\u001b[0m\u001b[0m\n",
      "\u001b[0;32m_pydevd_bundle/pydevd_cython.pyx\u001b[0m in \u001b[0;36m_pydevd_bundle.pydevd_cython.SafeCallWrapper.__call__\u001b[0;34m()\u001b[0m\n",
      "\u001b[0;32m_pydevd_bundle/pydevd_cython.pyx\u001b[0m in \u001b[0;36m_pydevd_bundle.pydevd_cython.PyDBFrame.trace_dispatch\u001b[0;34m()\u001b[0m\n",
      "\u001b[0;32m_pydevd_bundle/pydevd_cython.pyx\u001b[0m in \u001b[0;36m_pydevd_bundle.pydevd_cython.PyDBFrame.trace_dispatch\u001b[0;34m()\u001b[0m\n",
      "\u001b[0;32m_pydevd_bundle/pydevd_cython.pyx\u001b[0m in \u001b[0;36m_pydevd_bundle.pydevd_cython.PyDBFrame.trace_dispatch\u001b[0;34m()\u001b[0m\n",
      "\u001b[0;32m_pydevd_bundle/pydevd_cython.pyx\u001b[0m in \u001b[0;36m_pydevd_bundle.pydevd_cython.PyDBFrame.do_wait_suspend\u001b[0;34m()\u001b[0m\n",
      "\u001b[0;32m~/opt/anaconda3/envs/stopwords/lib/python3.9/site-packages/debugpy/_vendored/pydevd/pydevd.py\u001b[0m in \u001b[0;36mdo_wait_suspend\u001b[0;34m(self, thread, frame, event, arg, exception_type)\u001b[0m\n\u001b[1;32m   1947\u001b[0m \u001b[0;34m\u001b[0m\u001b[0m\n\u001b[1;32m   1948\u001b[0m             \u001b[0;32mwith\u001b[0m \u001b[0mself\u001b[0m\u001b[0;34m.\u001b[0m\u001b[0m_threads_suspended_single_notification\u001b[0m\u001b[0;34m.\u001b[0m\u001b[0mnotify_thread_suspended\u001b[0m\u001b[0;34m(\u001b[0m\u001b[0mthread_id\u001b[0m\u001b[0;34m,\u001b[0m \u001b[0mstop_reason\u001b[0m\u001b[0;34m)\u001b[0m\u001b[0;34m:\u001b[0m\u001b[0;34m\u001b[0m\u001b[0;34m\u001b[0m\u001b[0m\n\u001b[0;32m-> 1949\u001b[0;31m                 \u001b[0mkeep_suspended\u001b[0m \u001b[0;34m=\u001b[0m \u001b[0mself\u001b[0m\u001b[0;34m.\u001b[0m\u001b[0m_do_wait_suspend\u001b[0m\u001b[0;34m(\u001b[0m\u001b[0mthread\u001b[0m\u001b[0;34m,\u001b[0m \u001b[0mframe\u001b[0m\u001b[0;34m,\u001b[0m \u001b[0mevent\u001b[0m\u001b[0;34m,\u001b[0m \u001b[0marg\u001b[0m\u001b[0;34m,\u001b[0m \u001b[0msuspend_type\u001b[0m\u001b[0;34m,\u001b[0m \u001b[0mfrom_this_thread\u001b[0m\u001b[0;34m,\u001b[0m \u001b[0mframes_tracker\u001b[0m\u001b[0;34m)\u001b[0m\u001b[0;34m\u001b[0m\u001b[0;34m\u001b[0m\u001b[0m\n\u001b[0m\u001b[1;32m   1950\u001b[0m \u001b[0;34m\u001b[0m\u001b[0m\n\u001b[1;32m   1951\u001b[0m         \u001b[0mframes_list\u001b[0m \u001b[0;34m=\u001b[0m \u001b[0;32mNone\u001b[0m\u001b[0;34m\u001b[0m\u001b[0;34m\u001b[0m\u001b[0m\n",
      "\u001b[0;32m~/opt/anaconda3/envs/stopwords/lib/python3.9/site-packages/debugpy/_vendored/pydevd/pydevd.py\u001b[0m in \u001b[0;36m_do_wait_suspend\u001b[0;34m(self, thread, frame, event, arg, suspend_type, from_this_thread, frames_tracker)\u001b[0m\n\u001b[1;32m   1982\u001b[0m \u001b[0;34m\u001b[0m\u001b[0m\n\u001b[1;32m   1983\u001b[0m             \u001b[0mself\u001b[0m\u001b[0;34m.\u001b[0m\u001b[0mprocess_internal_commands\u001b[0m\u001b[0;34m(\u001b[0m\u001b[0;34m)\u001b[0m\u001b[0;34m\u001b[0m\u001b[0;34m\u001b[0m\u001b[0m\n\u001b[0;32m-> 1984\u001b[0;31m             \u001b[0mtime\u001b[0m\u001b[0;34m.\u001b[0m\u001b[0msleep\u001b[0m\u001b[0;34m(\u001b[0m\u001b[0;36m0.01\u001b[0m\u001b[0;34m)\u001b[0m\u001b[0;34m\u001b[0m\u001b[0;34m\u001b[0m\u001b[0m\n\u001b[0m\u001b[1;32m   1985\u001b[0m \u001b[0;34m\u001b[0m\u001b[0m\n\u001b[1;32m   1986\u001b[0m         \u001b[0mself\u001b[0m\u001b[0;34m.\u001b[0m\u001b[0mcancel_async_evaluation\u001b[0m\u001b[0;34m(\u001b[0m\u001b[0mget_current_thread_id\u001b[0m\u001b[0;34m(\u001b[0m\u001b[0mthread\u001b[0m\u001b[0;34m)\u001b[0m\u001b[0;34m,\u001b[0m \u001b[0mstr\u001b[0m\u001b[0;34m(\u001b[0m\u001b[0mid\u001b[0m\u001b[0;34m(\u001b[0m\u001b[0mframe\u001b[0m\u001b[0;34m)\u001b[0m\u001b[0;34m)\u001b[0m\u001b[0;34m)\u001b[0m\u001b[0;34m\u001b[0m\u001b[0;34m\u001b[0m\u001b[0m\n",
      "\u001b[0;31mKeyboardInterrupt\u001b[0m: "
     ]
    }
   ],
   "source": [
    "word2sum = {}\n",
    "word_set = set()\n",
    "for sent in send_table:\n",
    "    w1=''\n",
    "    w2=''\n",
    "    for word in sent:\n",
    "        if w2 == '':\n",
    "            log_prob = -model.logscore(word)\n",
    "        elif w1 == '':\n",
    "            log_prob = -model.logscore(word,[w2])\n",
    "        else:\n",
    "            log_prob = -model.logscore(word,[w1,w2])\n",
    "        print(log_prob)\n",
    "        if word in word2sum:\n",
    "            word2sum[word] += log_prob\n",
    "        else:\n",
    "            word2sum[word] = 0\n",
    "        w1 = w2\n",
    "        w2 = word"
   ]
  },
  {
   "cell_type": "code",
   "execution_count": 19,
   "metadata": {},
   "outputs": [
    {
     "data": {
      "text/html": [
       "<div>\n",
       "<style scoped>\n",
       "    .dataframe tbody tr th:only-of-type {\n",
       "        vertical-align: middle;\n",
       "    }\n",
       "\n",
       "    .dataframe tbody tr th {\n",
       "        vertical-align: top;\n",
       "    }\n",
       "\n",
       "    .dataframe thead th {\n",
       "        text-align: right;\n",
       "    }\n",
       "</style>\n",
       "<table border=\"1\" class=\"dataframe\">\n",
       "  <thead>\n",
       "    <tr style=\"text-align: right;\">\n",
       "      <th></th>\n",
       "      <th>word</th>\n",
       "      <th>cnt</th>\n",
       "      <th>len</th>\n",
       "      <th>sum_neg_log_prob</th>\n",
       "      <th>averge_content</th>\n",
       "    </tr>\n",
       "  </thead>\n",
       "  <tbody>\n",
       "    <tr>\n",
       "      <th>0</th>\n",
       "      <td>emma</td>\n",
       "      <td>866</td>\n",
       "      <td>4</td>\n",
       "      <td>2718.945080</td>\n",
       "      <td>3.139659</td>\n",
       "    </tr>\n",
       "    <tr>\n",
       "      <th>1</th>\n",
       "      <td>by</td>\n",
       "      <td>989</td>\n",
       "      <td>2</td>\n",
       "      <td>1612.443231</td>\n",
       "      <td>1.630377</td>\n",
       "    </tr>\n",
       "    <tr>\n",
       "      <th>2</th>\n",
       "      <td>jane</td>\n",
       "      <td>302</td>\n",
       "      <td>4</td>\n",
       "      <td>1015.868815</td>\n",
       "      <td>3.363804</td>\n",
       "    </tr>\n",
       "    <tr>\n",
       "      <th>3</th>\n",
       "      <td>austen</td>\n",
       "      <td>2</td>\n",
       "      <td>6</td>\n",
       "      <td>0.584963</td>\n",
       "      <td>0.292481</td>\n",
       "    </tr>\n",
       "    <tr>\n",
       "      <th>4</th>\n",
       "      <td>1816</td>\n",
       "      <td>1</td>\n",
       "      <td>4</td>\n",
       "      <td>0.000000</td>\n",
       "      <td>0.000000</td>\n",
       "    </tr>\n",
       "    <tr>\n",
       "      <th>5</th>\n",
       "      <td>volume</td>\n",
       "      <td>7</td>\n",
       "      <td>6</td>\n",
       "      <td>42.713527</td>\n",
       "      <td>6.101932</td>\n",
       "    </tr>\n",
       "    <tr>\n",
       "      <th>6</th>\n",
       "      <td>i</td>\n",
       "      <td>4302</td>\n",
       "      <td>1</td>\n",
       "      <td>10218.978611</td>\n",
       "      <td>2.375402</td>\n",
       "    </tr>\n",
       "    <tr>\n",
       "      <th>7</th>\n",
       "      <td>chapter</td>\n",
       "      <td>80</td>\n",
       "      <td>7</td>\n",
       "      <td>569.154321</td>\n",
       "      <td>7.114429</td>\n",
       "    </tr>\n",
       "    <tr>\n",
       "      <th>8</th>\n",
       "      <td>woodhouse</td>\n",
       "      <td>313</td>\n",
       "      <td>9</td>\n",
       "      <td>540.679192</td>\n",
       "      <td>1.727410</td>\n",
       "    </tr>\n",
       "    <tr>\n",
       "      <th>9</th>\n",
       "      <td>handsome</td>\n",
       "      <td>57</td>\n",
       "      <td>8</td>\n",
       "      <td>253.994002</td>\n",
       "      <td>4.456035</td>\n",
       "    </tr>\n",
       "    <tr>\n",
       "      <th>10</th>\n",
       "      <td>clever</td>\n",
       "      <td>34</td>\n",
       "      <td>6</td>\n",
       "      <td>158.555689</td>\n",
       "      <td>4.663403</td>\n",
       "    </tr>\n",
       "    <tr>\n",
       "      <th>11</th>\n",
       "      <td>and</td>\n",
       "      <td>7697</td>\n",
       "      <td>3</td>\n",
       "      <td>12133.477837</td>\n",
       "      <td>1.576391</td>\n",
       "    </tr>\n",
       "    <tr>\n",
       "      <th>12</th>\n",
       "      <td>rich</td>\n",
       "      <td>25</td>\n",
       "      <td>4</td>\n",
       "      <td>96.178804</td>\n",
       "      <td>3.847152</td>\n",
       "    </tr>\n",
       "    <tr>\n",
       "      <th>13</th>\n",
       "      <td>with</td>\n",
       "      <td>1871</td>\n",
       "      <td>4</td>\n",
       "      <td>3460.606666</td>\n",
       "      <td>1.849603</td>\n",
       "    </tr>\n",
       "    <tr>\n",
       "      <th>14</th>\n",
       "      <td>a</td>\n",
       "      <td>4724</td>\n",
       "      <td>1</td>\n",
       "      <td>10081.404524</td>\n",
       "      <td>2.134082</td>\n",
       "    </tr>\n",
       "    <tr>\n",
       "      <th>15</th>\n",
       "      <td>comfortable</td>\n",
       "      <td>48</td>\n",
       "      <td>11</td>\n",
       "      <td>185.252740</td>\n",
       "      <td>3.859432</td>\n",
       "    </tr>\n",
       "    <tr>\n",
       "      <th>16</th>\n",
       "      <td>home</td>\n",
       "      <td>213</td>\n",
       "      <td>4</td>\n",
       "      <td>404.976753</td>\n",
       "      <td>1.901299</td>\n",
       "    </tr>\n",
       "    <tr>\n",
       "      <th>17</th>\n",
       "      <td>happy</td>\n",
       "      <td>189</td>\n",
       "      <td>5</td>\n",
       "      <td>680.897686</td>\n",
       "      <td>3.602633</td>\n",
       "    </tr>\n",
       "    <tr>\n",
       "      <th>18</th>\n",
       "      <td>disposition</td>\n",
       "      <td>31</td>\n",
       "      <td>11</td>\n",
       "      <td>102.383462</td>\n",
       "      <td>3.302692</td>\n",
       "    </tr>\n",
       "    <tr>\n",
       "      <th>19</th>\n",
       "      <td>seemed</td>\n",
       "      <td>234</td>\n",
       "      <td>6</td>\n",
       "      <td>771.319989</td>\n",
       "      <td>3.296239</td>\n",
       "    </tr>\n",
       "    <tr>\n",
       "      <th>20</th>\n",
       "      <td>to</td>\n",
       "      <td>8047</td>\n",
       "      <td>2</td>\n",
       "      <td>10196.713898</td>\n",
       "      <td>1.267145</td>\n",
       "    </tr>\n",
       "    <tr>\n",
       "      <th>21</th>\n",
       "      <td>unite</td>\n",
       "      <td>3</td>\n",
       "      <td>5</td>\n",
       "      <td>7.247928</td>\n",
       "      <td>2.415976</td>\n",
       "    </tr>\n",
       "    <tr>\n",
       "      <th>22</th>\n",
       "      <td>some</td>\n",
       "      <td>398</td>\n",
       "      <td>4</td>\n",
       "      <td>1165.056293</td>\n",
       "      <td>2.927277</td>\n",
       "    </tr>\n",
       "    <tr>\n",
       "      <th>23</th>\n",
       "      <td>of</td>\n",
       "      <td>6861</td>\n",
       "      <td>2</td>\n",
       "      <td>5788.795304</td>\n",
       "      <td>0.843725</td>\n",
       "    </tr>\n",
       "    <tr>\n",
       "      <th>24</th>\n",
       "      <td>the</td>\n",
       "      <td>8530</td>\n",
       "      <td>3</td>\n",
       "      <td>15124.494933</td>\n",
       "      <td>1.773094</td>\n",
       "    </tr>\n",
       "    <tr>\n",
       "      <th>25</th>\n",
       "      <td>best</td>\n",
       "      <td>129</td>\n",
       "      <td>4</td>\n",
       "      <td>520.274585</td>\n",
       "      <td>4.033136</td>\n",
       "    </tr>\n",
       "    <tr>\n",
       "      <th>26</th>\n",
       "      <td>blessings</td>\n",
       "      <td>9</td>\n",
       "      <td>9</td>\n",
       "      <td>27.901404</td>\n",
       "      <td>3.100156</td>\n",
       "    </tr>\n",
       "    <tr>\n",
       "      <th>27</th>\n",
       "      <td>existence</td>\n",
       "      <td>11</td>\n",
       "      <td>9</td>\n",
       "      <td>41.501843</td>\n",
       "      <td>3.772895</td>\n",
       "    </tr>\n",
       "    <tr>\n",
       "      <th>28</th>\n",
       "      <td>had</td>\n",
       "      <td>2810</td>\n",
       "      <td>3</td>\n",
       "      <td>6722.915915</td>\n",
       "      <td>2.392497</td>\n",
       "    </tr>\n",
       "    <tr>\n",
       "      <th>29</th>\n",
       "      <td>lived</td>\n",
       "      <td>45</td>\n",
       "      <td>5</td>\n",
       "      <td>199.394047</td>\n",
       "      <td>4.430979</td>\n",
       "    </tr>\n",
       "  </tbody>\n",
       "</table>\n",
       "</div>"
      ],
      "text/plain": [
       "           word   cnt  len  sum_neg_log_prob  averge_content\n",
       "0          emma   866    4       2718.945080        3.139659\n",
       "1            by   989    2       1612.443231        1.630377\n",
       "2          jane   302    4       1015.868815        3.363804\n",
       "3        austen     2    6          0.584963        0.292481\n",
       "4          1816     1    4          0.000000        0.000000\n",
       "5        volume     7    6         42.713527        6.101932\n",
       "6             i  4302    1      10218.978611        2.375402\n",
       "7       chapter    80    7        569.154321        7.114429\n",
       "8     woodhouse   313    9        540.679192        1.727410\n",
       "9      handsome    57    8        253.994002        4.456035\n",
       "10       clever    34    6        158.555689        4.663403\n",
       "11          and  7697    3      12133.477837        1.576391\n",
       "12         rich    25    4         96.178804        3.847152\n",
       "13         with  1871    4       3460.606666        1.849603\n",
       "14            a  4724    1      10081.404524        2.134082\n",
       "15  comfortable    48   11        185.252740        3.859432\n",
       "16         home   213    4        404.976753        1.901299\n",
       "17        happy   189    5        680.897686        3.602633\n",
       "18  disposition    31   11        102.383462        3.302692\n",
       "19       seemed   234    6        771.319989        3.296239\n",
       "20           to  8047    2      10196.713898        1.267145\n",
       "21        unite     3    5          7.247928        2.415976\n",
       "22         some   398    4       1165.056293        2.927277\n",
       "23           of  6861    2       5788.795304        0.843725\n",
       "24          the  8530    3      15124.494933        1.773094\n",
       "25         best   129    4        520.274585        4.033136\n",
       "26    blessings     9    9         27.901404        3.100156\n",
       "27    existence    11    9         41.501843        3.772895\n",
       "28          had  2810    3       6722.915915        2.392497\n",
       "29        lived    45    5        199.394047        4.430979"
      ]
     },
     "execution_count": 19,
     "metadata": {},
     "output_type": "execute_result"
    }
   ],
   "source": [
    "#增加词长、计算信息量\n",
    "word_count_table = pd.DataFrame()\n",
    "for n,word in enumerate(info_table['word']):\n",
    "    # Create a list of just the word we are interested in, we use regular expressions so that part of words do not count\n",
    "    # e.g. 'ear' would be counted in each appearance of the word 'year'\n",
    "    word_count = len(word)  \n",
    "    word_count_table = word_count_table.append(pd.DataFrame({'len':word_count}, index=[n]))\n",
    "info_table['len'] = word_count_table['len']\n",
    "sum_table = pd.DataFrame()\n",
    "for n,word in enumerate(info_table['word']):\n",
    "    if word not in word2sum:\n",
    "        sum_table = sum_table.append(pd.DataFrame({'sum':-1}, index=[n]))\n",
    "        continue\n",
    "    sum_proc = word2sum[word]\n",
    "    sum_table = sum_table.append(pd.DataFrame({'sum':sum_proc}, index=[n]))\n",
    "info_table['sum_neg_log_prob'] = sum_table['sum']\n",
    "info_table['averge_content'] = (info_table['sum_neg_log_prob']/info_table['cnt'])\n",
    "info_table.head(30)"
   ]
  },
  {
   "cell_type": "code",
   "execution_count": 75,
   "metadata": {},
   "outputs": [
    {
     "data": {
      "application/vnd.jupyter.widget-view+json": {
       "model_id": "88d9d5ae36254486bc3ce3f4139693cf",
       "version_major": 2,
       "version_minor": 0
      },
      "text/plain": [
       "Button(description='Toggle Pandas/Lux', layout=Layout(top='5px', width='140px'), style=ButtonStyle())"
      ]
     },
     "metadata": {},
     "output_type": "display_data"
    },
    {
     "data": {
      "application/vnd.jupyter.widget-view+json": {
       "model_id": "230cc487d1b249bc8cde67668c569048",
       "version_major": 2,
       "version_minor": 0
      },
      "text/plain": [
       "Output()"
      ]
     },
     "metadata": {},
     "output_type": "display_data"
    }
   ],
   "source": [
    "info_table = info_table[info_table['len']<15]\n",
    "info_table = info_table[info_table['cnt']>20]\n",
    "info_table = info_table[info_table['averge_content']>0.5]\n",
    "info_table.intent = ['len','averge_content']\n",
    "info_table.head()\n"
   ]
  },
  {
   "cell_type": "code",
   "execution_count": 76,
   "metadata": {},
   "outputs": [
    {
     "name": "stdout",
     "output_type": "stream",
     "text": [
      "import matplotlib.pyplot as plt\n",
      "plt.rcParams.update(\n",
      "            {\n",
      "                \"axes.titlesize\": 20,\n",
      "                \"axes.titleweight\": \"bold\",\n",
      "                \"axes.labelweight\": \"bold\",\n",
      "                \"axes.labelsize\": 16,\n",
      "                \"legend.fontsize\": 14,\n",
      "                \"legend.title_fontsize\": 15,\n",
      "                \"xtick.labelsize\": 13,\n",
      "                \"ytick.labelsize\": 13,\n",
      "            }\n",
      "        )\n",
      "import numpy as np\n",
      "from math import nan\n",
      "df = pd.DataFrame({'len': {2: 3, 3: 4, 4: 5, 1: 2, 5: 6, 6: 7, 7: 8, 8: 9, 9: 10, 16: 17}, 'averge_content': {2: 2.266593459560208, 3: 2.075021459804718, 4: 2.048427040407961, 1: 1.8724707505277598, 5: 1.848061385404622, 6: 1.7012359464850482, 7: 1.5851396407974498, 8: 1.537666801269923, 9: 1.4424778593465934, 16: 1.3016868177187297}})\n",
      "fig, ax = plt.subplots()\n",
      "bars = df['len']\n",
      "measurements = df['averge_content']\n",
      "ax.barh(2      3\n",
      "3      4\n",
      "4      5\n",
      "1      2\n",
      "5      6\n",
      "6      7\n",
      "7      8\n",
      "8      9\n",
      "9     10\n",
      "16    17\n",
      "Name: len, dtype: object, 2     2.266593\n",
      "3     2.075021\n",
      "4     2.048427\n",
      "1     1.872471\n",
      "5     1.848061\n",
      "6     1.701236\n",
      "7     1.585140\n",
      "8     1.537667\n",
      "9     1.442478\n",
      "16    1.301687\n",
      "Name: averge_content, dtype: float64, align='center')\n",
      "ax.set_xlabel('averge_content')\n",
      "ax.set_ylabel('len')\n",
      "\n",
      "fig\n"
     ]
    }
   ],
   "source": [
    "print (vis.to_matplotlib())"
   ]
  },
  {
   "cell_type": "code",
   "execution_count": 74,
   "metadata": {},
   "outputs": [
    {
     "data": {
      "image/png": "[encoded data removed]",
      "text/plain": [
       "<Figure size 432x288 with 1 Axes>"
      ]
     },
     "metadata": {
      "needs_background": "light"
     },
     "output_type": "display_data"
    }
   ],
   "source": [
    "info_table.plot.scatter(x=\"len\", y=\"averge_content\",alpha=0.2)\n",
    "#plt.savefig('./webtext_ALL_300dpi.jpg', bbox_inches='tight', dpi=300)\n",
    "long_word = list(info_table[info_table['len']>10]['word'])"
   ]
  },
  {
   "cell_type": "code",
   "execution_count": 36,
   "metadata": {},
   "outputs": [
    {
     "data": {
      "application/vnd.jupyter.widget-view+json": {
       "model_id": "fcd6561002e64a32913e50b0987c3ab6",
       "version_major": 2,
       "version_minor": 0
      },
      "text/plain": [
       "LuxWidget(current_vis={'config': {'view': {'continuousWidth': 400, 'continuousHeight': 300}, 'axis': {'labelCo…"
      ]
     },
     "metadata": {},
     "output_type": "display_data"
    }
   ],
   "source": [
    "info_table.to_csv('./info_csv')\n",
    "import lux\n",
    "df = pd.read_csv('./info_csv')\n",
    "from lux.vis.Vis import Vis\n",
    "intent = ['averge_content',\"len\"]\n",
    "vis = Vis(intent,df)\n",
    "vis"
   ]
  }
 ],
 "metadata": {
  "interpreter": {
   "hash": "f87c41940a98a1a06bde016bc11ff418ea3d5a21d6fa78193519d8f174f35359"
  },
  "kernelspec": {
   "display_name": "Python 3.9.7 64-bit ('stopwords': conda)",
   "name": "python3"
  },
  "language_info": {
   "codemirror_mode": {
    "name": "ipython",
    "version": 3
   },
   "file_extension": ".py",
   "mimetype": "text/x-python",
   "name": "python",
   "nbconvert_exporter": "python",
   "pygments_lexer": "ipython3",
   "version": "3.9.7"
  },
  "orig_nbformat": 4
 },
 "nbformat": 4,
 "nbformat_minor": 2
}
