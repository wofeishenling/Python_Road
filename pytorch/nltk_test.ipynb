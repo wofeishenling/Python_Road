{
 "cells": [
  {
   "cell_type": "code",
   "execution_count": 1,
   "metadata": {},
   "outputs": [],
   "source": [
    "import nltk\n",
    "import matplotlib.pyplot as plt\n",
    "from nltk.corpus import gutenberg as gb\n",
    "from nltk.util import pad_sequence\n",
    "from nltk.util import bigrams\n",
    "from nltk.util import ngrams\n",
    "from nltk.util import everygrams\n",
    "from nltk.lm.preprocessing import pad_both_ends\n",
    "from nltk.lm.preprocessing import flatten\n",
    "from nltk import word_tokenize, sent_tokenize \n",
    "import pandas as pd\n",
    "import lux"
   ]
  },
  {
   "cell_type": "markdown",
   "metadata": {},
   "source": [
    "古腾堡语料库 NLTK包含古腾堡项目（Project Gutenberg）电子文档的一小部分文本。 该项目大约有25000（现在是36000）本免费电子书。 我们通过平均句子长度和平均词种数（词语丰富度）这两个特征，来看不同作者的写作风格。\n",
    "\n",
    "NLTK的古腾堡语料库收集的都是不同作家的书"
   ]
  },
  {
   "cell_type": "code",
   "execution_count": 2,
   "metadata": {},
   "outputs": [
    {
     "name": "stdout",
     "output_type": "stream",
     "text": [
      "austen-emma.txt\n",
      "austen-persuasion.txt\n",
      "austen-sense.txt\n",
      "bible-kjv.txt\n",
      "blake-poems.txt\n",
      "bryant-stories.txt\n",
      "burgess-busterbrown.txt\n",
      "carroll-alice.txt\n",
      "chesterton-ball.txt\n",
      "chesterton-brown.txt\n",
      "chesterton-thursday.txt\n",
      "edgeworth-parents.txt\n",
      "melville-moby_dick.txt\n",
      "milton-paradise.txt\n",
      "shakespeare-caesar.txt\n",
      "shakespeare-hamlet.txt\n",
      "shakespeare-macbeth.txt\n",
      "whitman-leaves.txt\n"
     ]
    }
   ],
   "source": [
    "#nltk.download('gutenberg')\n",
    "#nltk.download('punkt')\n",
    "#nltk.download('movie_reviews')#电影评论\n",
    "#nltk.download('webtext') #网络和聊天文本\n",
    "from nltk.corpus import gutenberg\n",
    "from nltk.corpus import webtext\n",
    "from nltk.corpus import movie_reviews\n",
    "#print(gutenberg.fileids())\n",
    "send_table = [] # 得到text的二维str数组\n",
    "text_string = '' # text纯string表示\n",
    "p = ''',.\";:'?()-=+/?()*&^%#;[]!`'''\n",
    "data_source = gutenberg\n",
    "for text_id in data_source.fileids():\n",
    "    print(text_id)\n",
    "    unit = data_source.sents(text_id)\n",
    "    for s in unit:\n",
    "        sent = []\n",
    "        for word in s:\n",
    "            if len(word)==1 and word in p:\n",
    "                continue #在此增加if条件可以去除停用词等\n",
    "            word = word.lower()\n",
    "            sent.append(word)\n",
    "            text_string+=word+' '\n",
    "        send_table.append(sent)"
   ]
  },
  {
   "cell_type": "code",
   "execution_count": null,
   "metadata": {},
   "outputs": [],
   "source": [
    "#test\n",
    "send_table = []\n",
    "sent1 = ['i', 'am', 'sam']\n",
    "sent2 = ['sam' ,'i', 'am']\n",
    "sent3 = ['i', 'do', 'not', 'like', 'green', 'eggs', 'and', 'ham']\n",
    "send_table.append(sent1)\n",
    "send_table.append(sent2)\n",
    "send_table.append(sent3)\n",
    "text_string=''\n",
    "for s in send_table:\n",
    "    for word in s:\n",
    "        word = word.lower()\n",
    "        text_string+=word+' '"
   ]
  },
  {
   "cell_type": "code",
   "execution_count": null,
   "metadata": {},
   "outputs": [],
   "source": [
    "word_list =[n for a in send_table for n in a]\n",
    "word_set=set(word_list)"
   ]
  },
  {
   "cell_type": "code",
   "execution_count": 3,
   "metadata": {},
   "outputs": [
    {
     "name": "stdout",
     "output_type": "stream",
     "text": [
      "<FreqDist with 42127 samples and 2250059 outcomes>\n"
     ]
    },
    {
     "data": {
      "application/vnd.jupyter.widget-view+json": {
       "model_id": "89c211f7e60447e386403e256920edc1",
       "version_major": 2,
       "version_minor": 0
      },
      "text/plain": [
       "Button(description='Toggle Pandas/Lux', layout=Layout(top='5px', width='140px'), style=ButtonStyle())"
      ]
     },
     "metadata": {},
     "output_type": "display_data"
    },
    {
     "data": {
      "application/vnd.jupyter.widget-view+json": {
       "model_id": "68d4e9179af74570b92bf764e494552d",
       "version_major": 2,
       "version_minor": 0
      },
      "text/plain": [
       "Output()"
      ]
     },
     "metadata": {},
     "output_type": "display_data"
    }
   ],
   "source": [
    "# 对text_string进行词频统计\n",
    "word_list = []\n",
    "cnt_list = []\n",
    "text_tokenized = nltk.word_tokenize(text_string)\n",
    "#print(text_tokenized)   \n",
    "from nltk import FreqDist\n",
    "fdist = FreqDist(text_tokenized)\n",
    "print(fdist)\n",
    "for a,b in fdist.items():\n",
    "    word_list.append(str(a))\n",
    "    cnt_list.append(b)\n",
    "dic = {\n",
    "    'word':word_list,\n",
    "    'cnt':cnt_list\n",
    "}\n",
    "info_table = pd.DataFrame(dic)\n",
    "info_table.head(10)"
   ]
  },
  {
   "cell_type": "code",
   "execution_count": null,
   "metadata": {},
   "outputs": [],
   "source": [
    "info_table.to_csv('./temp.csv')\n",
    "df = pd.read_csv('./temp.csv')\n",
    "from lux.vis.Vis import Vis\n",
    "intent= ['word','cnt']\n",
    "vis = Vis(intent,df)\n",
    "vis\n",
    "print(vis.to_matplotlib())"
   ]
  },
  {
   "cell_type": "code",
   "execution_count": 4,
   "metadata": {},
   "outputs": [],
   "source": [
    "# Preprocess the tokenized text for 3-grams language modelling\n",
    "# send_table: list[list(str)]\n",
    "from nltk.lm.preprocessing import padded_everygram_pipeline\n",
    "n = 3\n",
    "train_data, padded_sents = padded_everygram_pipeline(n, send_table)"
   ]
  },
  {
   "cell_type": "code",
   "execution_count": 5,
   "metadata": {},
   "outputs": [],
   "source": [
    "# 使用nltk 的ngram模型\n",
    "from nltk.lm import MLE\n",
    "model = MLE(n) # Lets train a 3-grams model, previously we set n=3"
   ]
  },
  {
   "cell_type": "code",
   "execution_count": 6,
   "metadata": {},
   "outputs": [
    {
     "name": "stdout",
     "output_type": "stream",
     "text": [
      "<Vocabulary with cutoff=1 unk_label='<UNK>' and 42301 items>\n"
     ]
    }
   ],
   "source": [
    "model.fit(train_data, padded_sents)\n",
    "print(model.vocab)"
   ]
  },
  {
   "cell_type": "code",
   "execution_count": null,
   "metadata": {},
   "outputs": [],
   "source": [
    "model.score('am',['i'])"
   ]
  },
  {
   "cell_type": "code",
   "execution_count": null,
   "metadata": {},
   "outputs": [],
   "source": [
    "model.logscore('cookie',['<s>'])"
   ]
  },
  {
   "cell_type": "code",
   "execution_count": null,
   "metadata": {},
   "outputs": [],
   "source": [
    "# 2-gram\n",
    "word2sum = {}\n",
    "word_set = set()\n",
    "for sent in send_table:\n",
    "    w1='<s>'\n",
    "    for word in sent:\n",
    "        log_prob = -model.logscore(word,[w1])\n",
    "        #print(word+' :',end='')\n",
    "        #print(log_prob)\n",
    "        if word in word2sum:\n",
    "            word2sum[word] += log_prob\n",
    "        else:\n",
    "            word2sum[word] = log_prob\n",
    "        w1 = word"
   ]
  },
  {
   "cell_type": "code",
   "execution_count": 7,
   "metadata": {},
   "outputs": [],
   "source": [
    "# 3-gram\n",
    "word2sum = {}\n",
    "word_set = set()\n",
    "for sent in send_table:\n",
    "    w1=''\n",
    "    w2=''\n",
    "    for word in sent:\n",
    "        if w2 == '':\n",
    "            log_prob = -model.logscore(word,['<s>'])\n",
    "        elif w1 == '':\n",
    "            log_prob = -model.logscore(word,[\"<s>\",w2])\n",
    "        else:\n",
    "            log_prob = -model.logscore(word,[w1,w2])\n",
    "        if word in word2sum:\n",
    "            word2sum[word] += log_prob\n",
    "        else:\n",
    "            word2sum[word] = log_prob\n",
    "        w1 = w2\n",
    "        w2 = word"
   ]
  },
  {
   "cell_type": "code",
   "execution_count": 8,
   "metadata": {},
   "outputs": [
    {
     "data": {
      "application/vnd.jupyter.widget-view+json": {
       "model_id": "68ce602a29304b00a514856d861d5b55",
       "version_major": 2,
       "version_minor": 0
      },
      "text/plain": [
       "Button(description='Toggle Pandas/Lux', layout=Layout(top='5px', width='140px'), style=ButtonStyle())"
      ]
     },
     "metadata": {},
     "output_type": "display_data"
    },
    {
     "data": {
      "application/vnd.jupyter.widget-view+json": {
       "model_id": "d412684af9ad42458eb8b13f4e8e04bc",
       "version_major": 2,
       "version_minor": 0
      },
      "text/plain": [
       "Output()"
      ]
     },
     "metadata": {},
     "output_type": "display_data"
    }
   ],
   "source": [
    "#增加词长、计算信息量\n",
    "word_count_table = pd.DataFrame()\n",
    "for n,word in enumerate(info_table['word']):\n",
    "    # Create a list of just the word we are interested in, we use regular expressions so that part of words do not count\n",
    "    # e.g. 'ear' would be counted in each appearance of the word 'year'\n",
    "    word_count = len(word)  \n",
    "    word_count_table = word_count_table.append(pd.DataFrame({'len':word_count}, index=[n]))\n",
    "info_table['len'] = word_count_table['len']\n",
    "info_table.head()\n",
    "sum_table = pd.DataFrame()\n",
    "for n,word in enumerate(info_table['word']):\n",
    "    if word not in word2sum:\n",
    "        sum_table = sum_table.append(pd.DataFrame({'sum':0}, index=[n]))\n",
    "        continue\n",
    "    sum_proc = word2sum[word]\n",
    "    sum_table = sum_table.append(pd.DataFrame({'sum':sum_proc}, index=[n]))\n",
    "info_table['sum_neg_log_prob'] = sum_table['sum']\n",
    "info_table['averge_content'] = (info_table['sum_neg_log_prob']/info_table['cnt'])\n",
    "info_table.head(30)"
   ]
  },
  {
   "cell_type": "code",
   "execution_count": 31,
   "metadata": {},
   "outputs": [
    {
     "name": "stderr",
     "output_type": "stream",
     "text": [
      "/Users/wofeishenling/opt/anaconda3/envs/stopwords/lib/python3.9/site-packages/pandas/core/frame.py:5477: SettingWithCopyWarning:\n",
      "A value is trying to be set on a copy of a slice from a DataFrame\n",
      "\n",
      "See the caveats in the documentation: https://pandas.pydata.org/pandas-docs/stable/user_guide/indexing.html#returning-a-view-versus-a-copy\n"
     ]
    },
    {
     "data": {
      "application/vnd.jupyter.widget-view+json": {
       "model_id": "25b98c7f35a0499e9f2bc61c1bac48ce",
       "version_major": 2,
       "version_minor": 0
      },
      "text/plain": [
       "Button(description='Toggle Pandas/Lux', layout=Layout(top='5px', width='140px'), style=ButtonStyle())"
      ]
     },
     "metadata": {},
     "output_type": "display_data"
    },
    {
     "data": {
      "application/vnd.jupyter.widget-view+json": {
       "model_id": "9f69ed39e1514e71a0880df9bba94503",
       "version_major": 2,
       "version_minor": 0
      },
      "text/plain": [
       "Output()"
      ]
     },
     "metadata": {},
     "output_type": "display_data"
    }
   ],
   "source": [
    "info_table.sort_values(by='cnt',ascending='',inplace=True)\n",
    "info_table = info_table.iloc[:200]\n",
    "info_table.intent = ['len','averge_content']\n",
    "info_table.head(100)\n"
   ]
  },
  {
   "cell_type": "code",
   "execution_count": null,
   "metadata": {},
   "outputs": [],
   "source": [
    "print (vis.to_matplotlib())"
   ]
  },
  {
   "cell_type": "code",
   "execution_count": 32,
   "metadata": {},
   "outputs": [
    {
     "name": "stdout",
     "output_type": "stream",
     "text": [
      "corelationship of len and averge_content: %f 0.056950661706265955\n",
      "corelationship of len and freq: %f -0.2760603279989578\n"
     ]
    }
   ],
   "source": [
    "#spearman correlation coefficient\n",
    "#原始数据\n",
    "X1= info_table['len']\n",
    "Y1= info_table['averge_content']\n",
    "Z1= info_table['cnt']\n",
    "#s.corr()函数计算\n",
    "r=X1.corr(Y1,method='spearman')\n",
    "q=X1.corr(Z1,method='spearman')\n",
    "print(\"corelationship of len and averge_content: %f\",r)\n",
    "print(\"corelationship of len and freq: %f\",q)"
   ]
  },
  {
   "cell_type": "code",
   "execution_count": 33,
   "metadata": {},
   "outputs": [
    {
     "data": {
      "image/png": "[encoded data removed]",
      "text/plain": [
       "<Figure size 432x288 with 1 Axes>"
      ]
     },
     "metadata": {
      "needs_background": "light"
     },
     "output_type": "display_data"
    }
   ],
   "source": [
    "info_table.plot.scatter(x=\"len\", y=\"averge_content\",alpha=0.2)\n",
    "plt.savefig('./3-gram_gutenberg_top_200.jpg', bbox_inches='tight', dpi=300)\n",
    "long_word = list(info_table[info_table['len']>10]['word'])"
   ]
  },
  {
   "cell_type": "code",
   "execution_count": 35,
   "metadata": {},
   "outputs": [
    {
     "data": {
      "application/vnd.jupyter.widget-view+json": {
       "model_id": "f5189f1af7e64181bb9743d6ec2cd226",
       "version_major": 2,
       "version_minor": 0
      },
      "text/plain": [
       "Button(description='Toggle Pandas/Lux', layout=Layout(top='5px', width='140px'), style=ButtonStyle())"
      ]
     },
     "metadata": {},
     "output_type": "display_data"
    },
    {
     "data": {
      "application/vnd.jupyter.widget-view+json": {
       "model_id": "f41428957a154a818f03fc316d657697",
       "version_major": 2,
       "version_minor": 0
      },
      "text/plain": [
       "Output()"
      ]
     },
     "metadata": {},
     "output_type": "display_data"
    }
   ],
   "source": [
    "info_table_lenle3 = info_table[info_table['len']<4]\n",
    "info_table_lenle3[info_table_lenle3['averge_content']>4].head(100)"
   ]
  },
  {
   "cell_type": "code",
   "execution_count": null,
   "metadata": {},
   "outputs": [],
   "source": [
    "info_table.to_csv('./info_csv')\n",
    "import lux\n",
    "df = pd.read_csv('./info_csv')\n",
    "from lux.vis.Vis import Vis\n",
    "intent = ['averge_content',\"len\"]\n",
    "vis = Vis(intent,df)\n",
    "vis"
   ]
  }
 ],
 "metadata": {
  "interpreter": {
   "hash": "f87c41940a98a1a06bde016bc11ff418ea3d5a21d6fa78193519d8f174f35359"
  },
  "kernelspec": {
   "display_name": "Python 3.9.7 64-bit ('stopwords': conda)",
   "name": "python3"
  },
  "language_info": {
   "codemirror_mode": {
    "name": "ipython",
    "version": 3
   },
   "file_extension": ".py",
   "mimetype": "text/x-python",
   "name": "python",
   "nbconvert_exporter": "python",
   "pygments_lexer": "ipython3",
   "version": "3.9.7"
  },
  "orig_nbformat": 4
 },
 "nbformat": 4,
 "nbformat_minor": 2
}
