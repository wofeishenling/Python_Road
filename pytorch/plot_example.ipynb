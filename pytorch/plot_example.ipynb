{
 "cells": [
  {
   "cell_type": "code",
   "execution_count": 7,
   "metadata": {},
   "outputs": [],
   "source": [
    "import numpy as np\n",
    "import pandas as pd\n",
    "import matplotlib as mpl\n",
    "import matplotlib.pyplot as plt\n",
    "import seaborn as sns\n",
    "import string\n",
    "import warnings; warnings.filterwarnings(action='once')\n",
    "from matplotlib.pyplot import MultipleLocator\n",
    "\n",
    "# set the  fontsize and some other elements\n",
    "large = 22; med = 16; small = 12\n",
    "params = {'axes.titlesize': large,\n",
    "          'legend.fontsize': med,\n",
    "          'figure.figsize': (16, 10),\n",
    "          'axes.labelsize': med,\n",
    "          'axes.titlesize': med,\n",
    "          'xtick.labelsize': med,\n",
    "          'ytick.labelsize': med,\n",
    "          'figure.titlesize': large}\n",
    "plt.rcParams.update(params)\n",
    "plt.style.use('seaborn-whitegrid')\n",
    "sns.set_style(\"white\")\n",
    "%matplotlib inline"
   ]
  },
  {
   "cell_type": "code",
   "execution_count": 8,
   "metadata": {},
   "outputs": [],
   "source": [
    "# Import dataset \n",
    "info_table = pd.read_csv('info_table_IMDB30000.csv')\n",
    "info_table = info_table.drop(info_table[info_table['word'].str.isdigit()==True].index)"
   ]
  },
  {
   "cell_type": "code",
   "execution_count": 9,
   "metadata": {},
   "outputs": [],
   "source": [
    "\n",
    "# Prepare Data \n",
    "# Create as many colors as there are unique midwest['category']\n",
    "\n",
    "#categories = np.unique(midwest['category'])\n",
    "#colors = [plt.cm.tab10(i/float(len(categories)-1)) for i in range(len(categories))]\n",
    "\n",
    "# Draw Plot for Each Category\n",
    "#def getMeanLen(left,interval):\n",
    "#    need = info_table[(info_table['averge_content']>=left) & (info_table['averge_content']<(left+interval))]\n",
    "#    ret = 0\n",
    "#    if(need.index.size!=0):\n",
    "#        ret = need['len'].sum()/need.index.size\n",
    "#    return ret\n",
    "def getMeanLen(info_table,matters=[]):\n",
    "    if(len(matters))!=0:\n",
    "        info_table = info_table[info_table['POS'].isin(matters)]\n",
    "    content_seq = []\n",
    "    mean_len_seq = []\n",
    "    size = info_table.index.size\n",
    "    per_seq = np.linspace(0,size,51)\n",
    "    interval = per_seq[1] - per_seq[0]\n",
    "    for per in per_seq:\n",
    "        len = info_table[per:per+interval]['len'].sum()/interval\n",
    "        content = info_table[per:per+interval]['len'].sum/interval\n",
    "        mean_len_seq.append(len)\n",
    "        content_seq.append(content)\n",
    "    #if(len(matters)==0):\n",
    "    #    need = info_table[(info_table['averge_content']>=left) & (info_table['averge_content']<(left+interval))]\n",
    "    #else:\n",
    "    #    need = info_table[(info_table['averge_content']>=left) & (info_table['averge_content']<(left+interval)) & (info_table['POS'].isin(matters))]\n",
    "    return content_seq, mean_len_seq"
   ]
  },
  {
   "cell_type": "code",
   "execution_count": 10,
   "metadata": {},
   "outputs": [
    {
     "ename": "UnboundLocalError",
     "evalue": "local variable 'len' referenced before assignment",
     "output_type": "error",
     "traceback": [
      "\u001b[1;31m---------------------------------------------------------------------------\u001b[0m",
      "\u001b[1;31mUnboundLocalError\u001b[0m                         Traceback (most recent call last)",
      "\u001b[1;32m~\\AppData\\Local\\Temp/ipykernel_16680/981099875.py\u001b[0m in \u001b[0;36m<module>\u001b[1;34m\u001b[0m\n\u001b[0;32m      1\u001b[0m \u001b[0mmean_len_seq\u001b[0m \u001b[1;33m=\u001b[0m \u001b[1;33m[\u001b[0m\u001b[1;33m]\u001b[0m\u001b[1;33m\u001b[0m\u001b[1;33m\u001b[0m\u001b[0m\n\u001b[0;32m      2\u001b[0m \u001b[0mcontent_seq\u001b[0m \u001b[1;33m=\u001b[0m\u001b[1;33m[\u001b[0m\u001b[1;33m]\u001b[0m\u001b[1;33m\u001b[0m\u001b[1;33m\u001b[0m\u001b[0m\n\u001b[1;32m----> 3\u001b[1;33m \u001b[0mcontent_seq\u001b[0m\u001b[1;33m,\u001b[0m\u001b[0mmean_len_seq\u001b[0m \u001b[1;33m=\u001b[0m \u001b[0mgetMeanLen\u001b[0m\u001b[1;33m(\u001b[0m\u001b[0minfo_table\u001b[0m\u001b[1;33m)\u001b[0m\u001b[1;33m\u001b[0m\u001b[1;33m\u001b[0m\u001b[0m\n\u001b[0m",
      "\u001b[1;32m~\\AppData\\Local\\Temp/ipykernel_16680/749351532.py\u001b[0m in \u001b[0;36mgetMeanLen\u001b[1;34m(info_table, matters)\u001b[0m\n\u001b[0;32m     13\u001b[0m \u001b[1;31m#    return ret\u001b[0m\u001b[1;33m\u001b[0m\u001b[1;33m\u001b[0m\u001b[0m\n\u001b[0;32m     14\u001b[0m \u001b[1;32mdef\u001b[0m \u001b[0mgetMeanLen\u001b[0m\u001b[1;33m(\u001b[0m\u001b[0minfo_table\u001b[0m\u001b[1;33m,\u001b[0m\u001b[0mmatters\u001b[0m\u001b[1;33m=\u001b[0m\u001b[1;33m[\u001b[0m\u001b[1;33m]\u001b[0m\u001b[1;33m)\u001b[0m\u001b[1;33m:\u001b[0m\u001b[1;33m\u001b[0m\u001b[1;33m\u001b[0m\u001b[0m\n\u001b[1;32m---> 15\u001b[1;33m     \u001b[1;32mif\u001b[0m\u001b[1;33m(\u001b[0m\u001b[0mlen\u001b[0m\u001b[1;33m(\u001b[0m\u001b[0mmatters\u001b[0m\u001b[1;33m)\u001b[0m\u001b[1;33m)\u001b[0m\u001b[1;33m!=\u001b[0m\u001b[1;36m0\u001b[0m\u001b[1;33m:\u001b[0m\u001b[1;33m\u001b[0m\u001b[1;33m\u001b[0m\u001b[0m\n\u001b[0m\u001b[0;32m     16\u001b[0m         \u001b[0minfo_table\u001b[0m \u001b[1;33m=\u001b[0m \u001b[0minfo_table\u001b[0m\u001b[1;33m[\u001b[0m\u001b[0minfo_table\u001b[0m\u001b[1;33m[\u001b[0m\u001b[1;34m'POS'\u001b[0m\u001b[1;33m]\u001b[0m\u001b[1;33m.\u001b[0m\u001b[0misin\u001b[0m\u001b[1;33m(\u001b[0m\u001b[0mmatters\u001b[0m\u001b[1;33m)\u001b[0m\u001b[1;33m]\u001b[0m\u001b[1;33m\u001b[0m\u001b[1;33m\u001b[0m\u001b[0m\n\u001b[0;32m     17\u001b[0m     \u001b[0mcontent_seq\u001b[0m \u001b[1;33m=\u001b[0m \u001b[1;33m[\u001b[0m\u001b[1;33m]\u001b[0m\u001b[1;33m\u001b[0m\u001b[1;33m\u001b[0m\u001b[0m\n",
      "\u001b[1;31mUnboundLocalError\u001b[0m: local variable 'len' referenced before assignment"
     ]
    }
   ],
   "source": [
    "mean_len_seq = []\n",
    "content_seq =[]\n",
    "content_seq,mean_len_seq = getMeanLen(info_table)"
   ]
  },
  {
   "cell_type": "code",
   "execution_count": null,
   "metadata": {},
   "outputs": [],
   "source": [
    "plt.figure(figsize=(10, 12), dpi= 80, facecolor='w', edgecolor='k')\n",
    "\n",
    "plt.scatter(content_seq,mean_len_seq)\n",
    "plt.gca().set(xlim=(0, 15), ylim=(4, 10),xlabel='Area', ylabel='Population')\n",
    "plt.xticks(fontsize=12)\n",
    "plt.yticks(fontsize=12)\n",
    "plt.xlabel('Information Content', fontsize=16, loc=\"center\", fontstyle='italic')\n",
    "plt.ylabel('Mean Length', fontsize=16, loc=\"center\", fontstyle='italic')\n",
    "plt.title(\"Relationship between information content and length\", fontsize=18)\n",
    "plt.legend(fontsize=12)    \n",
    "plt.show()    "
   ]
  },
  {
   "cell_type": "code",
   "execution_count": null,
   "metadata": {},
   "outputs": [],
   "source": [
    "normal_seq = []\n",
    "special_seq = []\n",
    "matters = set(['JJR','JJS','NNS','NNP','RB','RBR','RBS','VBD','VBG','VBN','VBP','VBZ'])\n",
    "categories = np.unique(info_table['POS'])\n",
    "All = set(categories)\n",
    "others = All-matters\n",
    "for left in content_seq:\n",
    "    normal_seq.append(getMeanLen(left,interval,others))\n",
    "    special_seq.append(getMeanLen(left,interval,matters))"
   ]
  },
  {
   "cell_type": "code",
   "execution_count": null,
   "metadata": {},
   "outputs": [],
   "source": [
    "plt.figure(figsize=(10, 12), dpi= 80, facecolor='w', edgecolor='k')\n",
    "\n",
    "plt.scatter(content_seq,normal_seq)\n",
    "plt.scatter(content_seq,special_seq)\n",
    "x_major_locator=MultipleLocator(1)\n",
    "#把x轴的刻度间隔设置为1，并存在变量里\n",
    "y_major_locator=MultipleLocator(1)\n",
    "#把y轴的刻度间隔设置为10，并存在变量里\n",
    "ax=plt.gca()\n",
    "#ax为两条坐标轴的实例\n",
    "ax.xaxis.set_major_locator(x_major_locator)\n",
    "#把x轴的主刻度设置为1的倍数\n",
    "ax.yaxis.set_major_locator(y_major_locator)\n",
    "ax.set(xlim=(0, 15), ylim=(4, 10),xlabel='Area', ylabel='Population')\n",
    "plt.xticks(fontsize=12)\n",
    "plt.yticks(fontsize=12)\n",
    "plt.xlabel('Information Content', fontsize=16, loc=\"center\", fontstyle='italic')\n",
    "plt.ylabel('Mean Length', fontsize=16, loc=\"center\", fontstyle='italic')\n",
    "plt.title(\"Relationship between information content and length\", fontsize=18)\n",
    "plt.legend(fontsize=12)    \n",
    "plt.show()    "
   ]
  },
  {
   "cell_type": "code",
   "execution_count": null,
   "metadata": {},
   "outputs": [],
   "source": [
    "\n",
    "info_table.sort_values(by='cnt',ascending='',inplace=True)\n",
    "info_table = info_table.iloc[:15000]"
   ]
  },
  {
   "cell_type": "code",
   "execution_count": null,
   "metadata": {},
   "outputs": [],
   "source": [
    "EXCEPTION_table = info_table[(info_table['len']>7)&(info_table['averge_content']<4)]\n",
    "EXCEPTION_table.head(50)"
   ]
  },
  {
   "cell_type": "code",
   "execution_count": null,
   "metadata": {},
   "outputs": [],
   "source": [
    "EXCEPTION_table1 = info_table[(info_table['len']<3)&(info_table['averge_content']>4)]\n",
    "EXCEPTION_table1.head(50)"
   ]
  }
 ],
 "metadata": {
  "interpreter": {
   "hash": "6787530bf9925b057af33f954282f7ad07558b12920f3eef54087b2f6236d6d8"
  },
  "kernelspec": {
   "display_name": "Python 3.9.7 64-bit ('base': conda)",
   "language": "python",
   "name": "python3"
  },
  "language_info": {
   "codemirror_mode": {
    "name": "ipython",
    "version": 3
   },
   "file_extension": ".py",
   "mimetype": "text/x-python",
   "name": "python",
   "nbconvert_exporter": "python",
   "pygments_lexer": "ipython3",
   "version": "3.9.7"
  },
  "orig_nbformat": 4
 },
 "nbformat": 4,
 "nbformat_minor": 2
}
