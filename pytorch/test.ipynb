{
 "cells": [
  {
   "cell_type": "code",
   "execution_count": 9,
   "metadata": {},
   "outputs": [
    {
     "name": "stdout",
     "output_type": "stream",
     "text": [
      "[1.  0.9 0.8 0.7 0.6 0.5 0.4 0.3 0.2 0.1 0. ]\n"
     ]
    }
   ],
   "source": [
    "import matplotlib.pyplot as plt\n",
    "import pandas as pd\n",
    "import numpy as np\n",
    "\n",
    "def show_cor_of(info_table,one,another,sortkey=''):\n",
    "    if(sortkey!=''):\n",
    "        info_table.sort_values(by=sortkey,ascending='',inplace=True)\n",
    "    size = info_table.index.size\n",
    "    p_list = np.linspace(1,0,0.1)\n",
    "    cor_cont_list = []\n",
    "    cor_freq_list = []\n",
    "    for p in p_list:\n",
    "        print(p)\n",
    "        #spearman correlation coefficient\n",
    "        #原始数据\n",
    "        X1= info_table['len'][:p*size]\n",
    "        Y1= info_table['averge_content'][:p*size]\n",
    "        Z1= info_table['averge_freq'][p*size]\n",
    "        #s.corr()函数计算\n",
    "        r=X1.corr(Y1,method='spearman')\n",
    "        q=X1.corr(Z1,method='spearman')\n",
    "        cor_cont_list.append(r)\n",
    "        cor_freq_list.append(q)\n",
    "        print(\"corelationship of len and averge_content: %f\",r)\n",
    "        print(\"corelationship of len and freq: %f\",q)\n",
    "    x = p_list\n",
    "    y1 = cor_freq_list\n",
    "    y2 = cor_cont_list\n",
    "    plt.plot(x,y1)\n",
    "    plt.plot(x,y2)\n",
    "    plt.show()"
   ]
  }
 ],
 "metadata": {
  "interpreter": {
   "hash": "6787530bf9925b057af33f954282f7ad07558b12920f3eef54087b2f6236d6d8"
  },
  "kernelspec": {
   "display_name": "Python 3.9.7 64-bit ('base': conda)",
   "language": "python",
   "name": "python3"
  },
  "language_info": {
   "codemirror_mode": {
    "name": "ipython",
    "version": 3
   },
   "file_extension": ".py",
   "mimetype": "text/x-python",
   "name": "python",
   "nbconvert_exporter": "python",
   "pygments_lexer": "ipython3",
   "version": "3.9.7"
  },
  "orig_nbformat": 4
 },
 "nbformat": 4,
 "nbformat_minor": 2
}
