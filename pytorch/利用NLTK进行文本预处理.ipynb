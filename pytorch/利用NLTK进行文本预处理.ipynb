{
 "cells": [
  {
   "cell_type": "markdown",
   "metadata": {},
   "source": [
    "首先，我们需要调用NLTK的古腾堡语料库，并在该语料库中获取一个文本对象。在进入应用之前，先简单介绍一下古腾堡语料库。古腾堡项目大约有36000本免费电子图书，NLTK中只包含了其中的一小部分，NLTK的古腾堡语料库收集的都是不同作家的书，并且都是英文的，通过下述命令可以查看NLTK中包含的相关文本文档："
   ]
  },
  {
   "cell_type": "code",
   "execution_count": null,
   "metadata": {},
   "outputs": [],
   "source": [
    "from nltk.corpus import gutenberg\n",
    "gutenberg.fileids()"
   ]
  },
  {
   "cell_type": "markdown",
   "metadata": {},
   "source": [
    "这里以莎士比亚的著作《哈姆雷特》为例进行简单的文本分析，首先，我们需要先获取《哈姆雷特》的文本内容，键入以下命令即可获取语料库中的文本内容："
   ]
  },
  {
   "cell_type": "code",
   "execution_count": 3,
   "metadata": {},
   "outputs": [
    {
     "name": "stdout",
     "output_type": "stream",
     "text": [
      "['[', 'The', 'Tragedie', 'of', 'Hamlet', 'by', ...]\n",
      "[['[', 'The', 'Tragedie', 'of', 'Hamlet', 'by', 'William', 'Shakespeare', '1599', ']'], ['Actus', 'Primus', '.'], ...]\n"
     ]
    }
   ],
   "source": [
    "hamlet = gutenberg.words('shakespeare-hamlet.txt')  # 获取shakespeare-hamlet.txt这个文件的单词\n",
    "print(hamlet)\n",
    "hamlets = gutenberg.sents('shakespeare-hamlet.txt')  # 获取shakespeare-hamlet.txt这个文件的句子\n",
    "print(hamlets)"
   ]
  },
  {
   "cell_type": "markdown",
   "metadata": {},
   "source": [
    "由于nltk的ngram模型的api需要的数据类型为list[list(str)],我们需要对语料库进行一些处理，并在每一句话首部加上'<s',尾部加上 '/s>'.\n",
    "这里我们把它命名为send_table"
   ]
  },
  {
   "cell_type": "code",
   "execution_count": 11,
   "metadata": {},
   "outputs": [],
   "source": [
    "send_table = []\n",
    "p = ''',.\";:?()[]!`'''\n",
    "for s in hamlets:\n",
    "    sent = []\n",
    "    sent.append('<s')\n",
    "    for word in s:\n",
    "        if len(word)==1 and word in p:\n",
    "            continue #在此增加if条件可以去除停用词等\n",
    "        sent.append(word)\n",
    "    sent.append('/s>')\n",
    "    send_table.append(sent)"
   ]
  }
 ],
 "metadata": {
  "interpreter": {
   "hash": "f87c41940a98a1a06bde016bc11ff418ea3d5a21d6fa78193519d8f174f35359"
  },
  "kernelspec": {
   "display_name": "Python 3.9.7 64-bit ('stopwords': conda)",
   "name": "python3"
  },
  "language_info": {
   "codemirror_mode": {
    "name": "ipython",
    "version": 3
   },
   "file_extension": ".py",
   "mimetype": "text/x-python",
   "name": "python",
   "nbconvert_exporter": "python",
   "pygments_lexer": "ipython3",
   "version": "3.9.7"
  },
  "orig_nbformat": 4
 },
 "nbformat": 4,
 "nbformat_minor": 2
}
